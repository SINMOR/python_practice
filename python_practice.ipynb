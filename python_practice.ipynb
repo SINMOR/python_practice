{
  "nbformat": 4,
  "nbformat_minor": 0,
  "metadata": {
    "colab": {
      "provenance": [],
      "authorship_tag": "ABX9TyMJeQ322vtnfPaKrv1PmNqR",
      "include_colab_link": true
    },
    "kernelspec": {
      "name": "python3",
      "display_name": "Python 3"
    },
    "language_info": {
      "name": "python"
    }
  },
  "cells": [
    {
      "cell_type": "markdown",
      "metadata": {
        "id": "view-in-github",
        "colab_type": "text"
      },
      "source": [
        "<a href=\"https://colab.research.google.com/github/SINMOR/python_practice/blob/main/python_practice.ipynb\" target=\"_parent\"><img src=\"https://colab.research.google.com/assets/colab-badge.svg\" alt=\"Open In Colab\"/></a>"
      ]
    },
    {
      "cell_type": "code",
      "execution_count": null,
      "metadata": {
        "id": "bPJSutsidf49"
      },
      "outputs": [],
      "source": [
        "a=6"
      ]
    },
    {
      "cell_type": "markdown",
      "source": [
        "a"
      ],
      "metadata": {
        "id": "UxD6rDJ6eCcb"
      }
    },
    {
      "cell_type": "code",
      "source": [
        "sudh = 4 + 9j\n",
        "sudh"
      ],
      "metadata": {
        "colab": {
          "base_uri": "https://localhost:8080/"
        },
        "id": "8OapLCc0fO1n",
        "outputId": "9a309e49-c75f-46cd-d985-06e6e3ea2fe1"
      },
      "execution_count": null,
      "outputs": [
        {
          "output_type": "execute_result",
          "data": {
            "text/plain": [
              "(4+9j)"
            ]
          },
          "metadata": {},
          "execution_count": 5
        }
      ]
    },
    {
      "cell_type": "code",
      "source": [
        "type(sudh)"
      ],
      "metadata": {
        "colab": {
          "base_uri": "https://localhost:8080/"
        },
        "id": "uBfroqmIfPLI",
        "outputId": "202c9359-61fe-4eef-aa3a-57da626ac8c4"
      },
      "execution_count": null,
      "outputs": [
        {
          "output_type": "execute_result",
          "data": {
            "text/plain": [
              "complex"
            ]
          },
          "metadata": {},
          "execution_count": 6
        }
      ]
    },
    {
      "cell_type": "code",
      "source": [
        "sudh.imag"
      ],
      "metadata": {
        "colab": {
          "base_uri": "https://localhost:8080/"
        },
        "id": "VYx6KQOjfPaW",
        "outputId": "97e733dd-8300-47e5-c52a-7e11b56779e3"
      },
      "execution_count": null,
      "outputs": [
        {
          "output_type": "execute_result",
          "data": {
            "text/plain": [
              "9.0"
            ]
          },
          "metadata": {},
          "execution_count": 7
        }
      ]
    },
    {
      "cell_type": "code",
      "source": [
        "a = 23"
      ],
      "metadata": {
        "id": "WpXItMdkfPm_"
      },
      "execution_count": null,
      "outputs": []
    },
    {
      "cell_type": "code",
      "source": [
        "b = 24"
      ],
      "metadata": {
        "id": "rvjKyLcVfPuW"
      },
      "execution_count": null,
      "outputs": []
    },
    {
      "cell_type": "code",
      "source": [
        "c = True"
      ],
      "metadata": {
        "id": "qejfqF0vfPyA"
      },
      "execution_count": null,
      "outputs": []
    },
    {
      "cell_type": "code",
      "source": [
        "True + False"
      ],
      "metadata": {
        "colab": {
          "base_uri": "https://localhost:8080/"
        },
        "id": "V2ZCOi4RfP1j",
        "outputId": "1bfe004a-53cf-4fd5-80dc-dfbbb642adea"
      },
      "execution_count": null,
      "outputs": [
        {
          "output_type": "execute_result",
          "data": {
            "text/plain": [
              "1"
            ]
          },
          "metadata": {},
          "execution_count": 9
        }
      ]
    },
    {
      "cell_type": "code",
      "source": [
        "s = 'Morris '\n",
        "type(s)"
      ],
      "metadata": {
        "colab": {
          "base_uri": "https://localhost:8080/"
        },
        "id": "RmLrfE5SfP4j",
        "outputId": "b0707136-a821-4630-d34c-417cbf93058d"
      },
      "execution_count": null,
      "outputs": [
        {
          "output_type": "execute_result",
          "data": {
            "text/plain": [
              "str"
            ]
          },
          "metadata": {},
          "execution_count": 11
        }
      ]
    },
    {
      "cell_type": "code",
      "source": [
        "print(s)"
      ],
      "metadata": {
        "colab": {
          "base_uri": "https://localhost:8080/"
        },
        "id": "cfd7NxtKfP8a",
        "outputId": "72653e9e-7700-4dbf-841d-defcbc3a1b2b"
      },
      "execution_count": null,
      "outputs": [
        {
          "output_type": "stream",
          "name": "stdout",
          "text": [
            "Morris \n"
          ]
        }
      ]
    },
    {
      "cell_type": "code",
      "source": [
        "s= 'ineuron'\n",
        "id(s)"
      ],
      "metadata": {
        "colab": {
          "base_uri": "https://localhost:8080/"
        },
        "id": "l-cx2VO9fQIp",
        "outputId": "bc9110e4-16d0-45bc-8533-3a78033e8504"
      },
      "execution_count": null,
      "outputs": [
        {
          "output_type": "execute_result",
          "data": {
            "text/plain": [
              "138812969138096"
            ]
          },
          "metadata": {},
          "execution_count": 13
        }
      ]
    },
    {
      "cell_type": "code",
      "source": [
        "s[0:4:1]"
      ],
      "metadata": {
        "colab": {
          "base_uri": "https://localhost:8080/",
          "height": 35
        },
        "id": "EtK5DMrnfQM2",
        "outputId": "8971ffa8-5f2e-4cff-b4d6-93bf8a36b8a9"
      },
      "execution_count": null,
      "outputs": [
        {
          "output_type": "execute_result",
          "data": {
            "text/plain": [
              "'ineu'"
            ],
            "application/vnd.google.colaboratory.intrinsic+json": {
              "type": "string"
            }
          },
          "metadata": {},
          "execution_count": 29
        }
      ]
    },
    {
      "cell_type": "code",
      "source": [
        "s[::-2]"
      ],
      "metadata": {
        "colab": {
          "base_uri": "https://localhost:8080/",
          "height": 35
        },
        "id": "KgXA8eOJspbV",
        "outputId": "b04d8930-e663-4fec-ca29-95e07c2aef57"
      },
      "execution_count": null,
      "outputs": [
        {
          "output_type": "execute_result",
          "data": {
            "text/plain": [
              "'nrei'"
            ],
            "application/vnd.google.colaboratory.intrinsic+json": {
              "type": "string"
            }
          },
          "metadata": {},
          "execution_count": 33
        }
      ]
    },
    {
      "cell_type": "code",
      "source": [
        "c = []\n",
        "type(c)"
      ],
      "metadata": {
        "colab": {
          "base_uri": "https://localhost:8080/"
        },
        "id": "mxFfLm-SsreI",
        "outputId": "86192eb6-b2c6-4c02-ccd5-99dee6b11622"
      },
      "execution_count": null,
      "outputs": [
        {
          "output_type": "execute_result",
          "data": {
            "text/plain": [
              "list"
            ]
          },
          "metadata": {},
          "execution_count": 34
        }
      ]
    },
    {
      "cell_type": "code",
      "source": [
        "s = list()\n",
        "type(s)"
      ],
      "metadata": {
        "colab": {
          "base_uri": "https://localhost:8080/"
        },
        "id": "QzZPgn5-srXd",
        "outputId": "8fc5e8b5-e116-4adc-8430-14553fa397f8"
      },
      "execution_count": null,
      "outputs": [
        {
          "output_type": "execute_result",
          "data": {
            "text/plain": [
              "list"
            ]
          },
          "metadata": {},
          "execution_count": 36
        }
      ]
    },
    {
      "cell_type": "code",
      "source": [
        "c = [1 , 2 , 'Morris ', 6 +9j , 'Allan', 45.6 ,['kqnsjqb s',1,34.6]]\n",
        "c"
      ],
      "metadata": {
        "colab": {
          "base_uri": "https://localhost:8080/"
        },
        "id": "ySOX3IrMsrNy",
        "outputId": "e9003892-df67-480a-c300-ff7fb16e82e4"
      },
      "execution_count": null,
      "outputs": [
        {
          "output_type": "execute_result",
          "data": {
            "text/plain": [
              "[1, 2, 'Morris ', (6+9j), 'Allan', 45.6, ['kqnsjqb s', 1, 34.6]]"
            ]
          },
          "metadata": {},
          "execution_count": 4
        }
      ]
    },
    {
      "cell_type": "code",
      "source": [
        "c[-1][2]"
      ],
      "metadata": {
        "colab": {
          "base_uri": "https://localhost:8080/"
        },
        "id": "Qz04veMEsrC3",
        "outputId": "1867ed7a-0458-4e75-a06a-e4ff6727e061"
      },
      "execution_count": null,
      "outputs": [
        {
          "output_type": "execute_result",
          "data": {
            "text/plain": [
              "34.6"
            ]
          },
          "metadata": {},
          "execution_count": 5
        }
      ]
    },
    {
      "cell_type": "code",
      "source": [
        "range(10)"
      ],
      "metadata": {
        "colab": {
          "base_uri": "https://localhost:8080/"
        },
        "id": "TuZlyQ0aspO0",
        "outputId": "bbf9fbbb-cac6-40eb-a749-76e28e6f443d"
      },
      "execution_count": null,
      "outputs": [
        {
          "output_type": "execute_result",
          "data": {
            "text/plain": [
              "range(0, 10)"
            ]
          },
          "metadata": {},
          "execution_count": 6
        }
      ]
    },
    {
      "cell_type": "code",
      "source": [
        "list(range(10))"
      ],
      "metadata": {
        "colab": {
          "base_uri": "https://localhost:8080/"
        },
        "id": "gtBofmh6spAs",
        "outputId": "5b77b59f-2e8d-4559-f188-67548f501109"
      },
      "execution_count": null,
      "outputs": [
        {
          "output_type": "execute_result",
          "data": {
            "text/plain": [
              "[0, 1, 2, 3, 4, 5, 6, 7, 8, 9]"
            ]
          },
          "metadata": {},
          "execution_count": 7
        }
      ]
    },
    {
      "cell_type": "code",
      "source": [
        "list(range(10,3,-1))"
      ],
      "metadata": {
        "colab": {
          "base_uri": "https://localhost:8080/"
        },
        "id": "qRqMFFOmso1-",
        "outputId": "b9cf1ff5-b472-4405-8329-b43c0155f8e7"
      },
      "execution_count": null,
      "outputs": [
        {
          "output_type": "execute_result",
          "data": {
            "text/plain": [
              "[10, 9, 8, 7, 6, 5, 4]"
            ]
          },
          "metadata": {},
          "execution_count": 10
        }
      ]
    },
    {
      "cell_type": "code",
      "source": [
        "list(range(10,4,-1))"
      ],
      "metadata": {
        "colab": {
          "base_uri": "https://localhost:8080/"
        },
        "id": "-Sj2_yqYsosV",
        "outputId": "e7454f19-6709-4ec6-d908-b0d45c366f70"
      },
      "execution_count": null,
      "outputs": [
        {
          "output_type": "execute_result",
          "data": {
            "text/plain": [
              "[10, 9, 8, 7, 6, 5]"
            ]
          },
          "metadata": {},
          "execution_count": 12
        }
      ]
    },
    {
      "cell_type": "code",
      "source": [
        "i = [3, 4, 5, 6, 7, 8, 23, 4, 5, 5]\n",
        "m = []\n",
        "for l in i:\n",
        "    m.append(l+2)\n"
      ],
      "metadata": {
        "id": "OVw71rvasocn"
      },
      "execution_count": null,
      "outputs": []
    },
    {
      "cell_type": "code",
      "source": [
        "import math\n",
        "print(abs(2.9))\n",
        "\n"
      ],
      "metadata": {
        "colab": {
          "base_uri": "https://localhost:8080/"
        },
        "id": "oQ0C2Jm_soZP",
        "outputId": "e10a5c06-cdc3-4fb5-b992-00dfbfa0fc89"
      },
      "execution_count": null,
      "outputs": [
        {
          "output_type": "stream",
          "name": "stdout",
          "text": [
            "2.9\n"
          ]
        }
      ]
    },
    {
      "cell_type": "code",
      "source": [
        "x= input (\"x: \")\n",
        "y= int(x) + 1\n",
        "print(f\"x: {x}, y: {y}\")"
      ],
      "metadata": {
        "id": "r7ykF5gwsoV6",
        "colab": {
          "base_uri": "https://localhost:8080/"
        },
        "outputId": "c77ec8f5-1147-4566-b301-d0fc5b08d1d3"
      },
      "execution_count": null,
      "outputs": [
        {
          "output_type": "stream",
          "name": "stdout",
          "text": [
            "x: 1\n",
            "x: {x}, y: {y}\n"
          ]
        }
      ]
    },
    {
      "cell_type": "code",
      "source": [
        "temperature = 25\n",
        "if temperature > 30:\n",
        "  print('Its warm')\n",
        "  print ('I know ')\n",
        "elif temperature > 20:\n",
        "  print('its colder')\n",
        "else:\n",
        "  print('Mary')\n",
        "print('done ')"
      ],
      "metadata": {
        "id": "Lq4e6oBusoRy",
        "colab": {
          "base_uri": "https://localhost:8080/"
        },
        "outputId": "4e593053-d1cd-4ae2-ca09-e4c3d25b31d7"
      },
      "execution_count": null,
      "outputs": [
        {
          "output_type": "stream",
          "name": "stdout",
          "text": [
            "its colder\n",
            "done \n"
          ]
        }
      ]
    },
    {
      "cell_type": "code",
      "source": [
        "age = 17\n",
        "\n",
        "message='Eligible' if age >=18 else 'Not eligible '\n",
        "print(message)"
      ],
      "metadata": {
        "id": "9UFzH7C6soIO",
        "colab": {
          "base_uri": "https://localhost:8080/"
        },
        "outputId": "23cc42aa-18d3-4b36-8a41-013067a9c0ab"
      },
      "execution_count": null,
      "outputs": [
        {
          "output_type": "stream",
          "name": "stdout",
          "text": [
            "Not eligible \n"
          ]
        }
      ]
    },
    {
      "cell_type": "code",
      "source": [
        "high_income = True\n",
        "good_credit = True\n",
        "student = True\n",
        "\n",
        "if (high_income or good_credit) and not student:\n",
        "  print('Eligible ')\n",
        "else:\n",
        "  print('Not Eligible')"
      ],
      "metadata": {
        "id": "1ECYhgcXsn6x",
        "colab": {
          "base_uri": "https://localhost:8080/"
        },
        "outputId": "16abc805-e68d-42f0-96f0-b416f4f285d9"
      },
      "execution_count": null,
      "outputs": [
        {
          "output_type": "stream",
          "name": "stdout",
          "text": [
            "Not Eligible\n"
          ]
        }
      ]
    },
    {
      "cell_type": "code",
      "source": [
        "age = 23\n",
        "if 18 <= age < 65:\n",
        "  print ('Eligible ')"
      ],
      "metadata": {
        "id": "-DCYCnv4sm0i",
        "colab": {
          "base_uri": "https://localhost:8080/"
        },
        "outputId": "e7b7f6ab-f228-4834-940e-93e14c3d01ea"
      },
      "execution_count": null,
      "outputs": [
        {
          "output_type": "stream",
          "name": "stdout",
          "text": [
            "Eligible \n"
          ]
        }
      ]
    },
    {
      "cell_type": "code",
      "source": [
        "if 10=='10':\n",
        "  print('a')\n",
        "elif 'bag'>'apple' and 'bag' > 'cat':\n",
        "  print('b')\n",
        "else:\n",
        "  print('c')"
      ],
      "metadata": {
        "colab": {
          "base_uri": "https://localhost:8080/"
        },
        "id": "7P3o6bRSHqws",
        "outputId": "d471584e-59bb-4394-e929-3698625a5ec7"
      },
      "execution_count": null,
      "outputs": [
        {
          "output_type": "stream",
          "name": "stdout",
          "text": [
            "c\n"
          ]
        }
      ]
    },
    {
      "cell_type": "code",
      "source": [
        "for number in range(3):\n",
        "  print('attempt', number + 1, (number + 1)*'.')"
      ],
      "metadata": {
        "colab": {
          "base_uri": "https://localhost:8080/"
        },
        "id": "58Co5aSyHte_",
        "outputId": "f40d2bbb-bfd1-46c5-96ff-ece68dc35902"
      },
      "execution_count": null,
      "outputs": [
        {
          "output_type": "stream",
          "name": "stdout",
          "text": [
            "attempt 1 .\n",
            "attempt 2 ..\n",
            "attempt 3 ...\n"
          ]
        }
      ]
    },
    {
      "cell_type": "code",
      "source": [
        "successful = False\n",
        "for number in range (3):\n",
        "  print('attempt')\n",
        "  if successful:\n",
        "    print('successful')\n",
        "    break\n",
        "else:\n",
        "  print('Attempted 3 times and failed ')"
      ],
      "metadata": {
        "colab": {
          "base_uri": "https://localhost:8080/"
        },
        "id": "dGq_gNPoHtzS",
        "outputId": "e39cac85-7e1b-43c5-8c19-4ae90f065789"
      },
      "execution_count": null,
      "outputs": [
        {
          "output_type": "stream",
          "name": "stdout",
          "text": [
            "attempt\n",
            "attempt\n",
            "attempt\n",
            "Attempted 3 times and failed \n"
          ]
        }
      ]
    },
    {
      "cell_type": "code",
      "source": [
        "for x in range (5):\n",
        "  for y in range (3):\n",
        "    print(f'({x}, {y})')"
      ],
      "metadata": {
        "colab": {
          "base_uri": "https://localhost:8080/"
        },
        "id": "WkzH0vU9HuIG",
        "outputId": "c418fbf2-7b61-4f21-99dc-00b884fcea65"
      },
      "execution_count": null,
      "outputs": [
        {
          "output_type": "stream",
          "name": "stdout",
          "text": [
            "(0, 0)\n",
            "(0, 1)\n",
            "(0, 2)\n",
            "(1, 0)\n",
            "(1, 1)\n",
            "(1, 2)\n",
            "(2, 0)\n",
            "(2, 1)\n",
            "(2, 2)\n",
            "(3, 0)\n",
            "(3, 1)\n",
            "(3, 2)\n",
            "(4, 0)\n",
            "(4, 1)\n",
            "(4, 2)\n"
          ]
        }
      ]
    },
    {
      "cell_type": "code",
      "source": [
        "number = 100\n",
        "while number > 0:\n",
        "  print(number)\n",
        "  number//=2"
      ],
      "metadata": {
        "colab": {
          "base_uri": "https://localhost:8080/"
        },
        "id": "YW2nnrVcHuVX",
        "outputId": "fbab3e8f-942e-47fa-f357-5339eea24e56"
      },
      "execution_count": null,
      "outputs": [
        {
          "output_type": "stream",
          "name": "stdout",
          "text": [
            "100\n",
            "50\n",
            "25\n",
            "12\n",
            "6\n",
            "3\n",
            "1\n"
          ]
        }
      ]
    },
    {
      "cell_type": "code",
      "source": [
        "command = ''\n",
        "while command != 'quit':\n",
        "  command = input('>')\n",
        "  print('ECHO' , command)"
      ],
      "metadata": {
        "colab": {
          "base_uri": "https://localhost:8080/",
          "height": 356
        },
        "id": "ru0VDCCBHulE",
        "outputId": "385f2c96-9bbd-43f4-c858-f95d41c1af15"
      },
      "execution_count": null,
      "outputs": [
        {
          "output_type": "error",
          "ename": "KeyboardInterrupt",
          "evalue": "Interrupted by user",
          "traceback": [
            "\u001b[0;31m---------------------------------------------------------------------------\u001b[0m",
            "\u001b[0;31mKeyboardInterrupt\u001b[0m                         Traceback (most recent call last)",
            "\u001b[0;32m<ipython-input-23-10fa1fb9f2ff>\u001b[0m in \u001b[0;36m<cell line: 2>\u001b[0;34m()\u001b[0m\n\u001b[1;32m      1\u001b[0m \u001b[0mcommand\u001b[0m \u001b[0;34m=\u001b[0m \u001b[0;34m''\u001b[0m\u001b[0;34m\u001b[0m\u001b[0;34m\u001b[0m\u001b[0m\n\u001b[1;32m      2\u001b[0m \u001b[0;32mwhile\u001b[0m \u001b[0mcommand\u001b[0m \u001b[0;34m!=\u001b[0m \u001b[0;34m'quit'\u001b[0m\u001b[0;34m:\u001b[0m\u001b[0;34m\u001b[0m\u001b[0;34m\u001b[0m\u001b[0m\n\u001b[0;32m----> 3\u001b[0;31m   \u001b[0mcommand\u001b[0m \u001b[0;34m=\u001b[0m \u001b[0minput\u001b[0m\u001b[0;34m(\u001b[0m\u001b[0;34m'>'\u001b[0m\u001b[0;34m)\u001b[0m\u001b[0;34m\u001b[0m\u001b[0;34m\u001b[0m\u001b[0m\n\u001b[0m\u001b[1;32m      4\u001b[0m   \u001b[0mprint\u001b[0m\u001b[0;34m(\u001b[0m\u001b[0;34m'ECHO'\u001b[0m \u001b[0;34m,\u001b[0m \u001b[0mcommand\u001b[0m\u001b[0;34m)\u001b[0m\u001b[0;34m\u001b[0m\u001b[0;34m\u001b[0m\u001b[0m\n",
            "\u001b[0;32m/usr/local/lib/python3.10/dist-packages/ipykernel/kernelbase.py\u001b[0m in \u001b[0;36mraw_input\u001b[0;34m(self, prompt)\u001b[0m\n\u001b[1;32m    849\u001b[0m                 \u001b[0;34m\"raw_input was called, but this frontend does not support input requests.\"\u001b[0m\u001b[0;34m\u001b[0m\u001b[0;34m\u001b[0m\u001b[0m\n\u001b[1;32m    850\u001b[0m             )\n\u001b[0;32m--> 851\u001b[0;31m         return self._input_request(str(prompt),\n\u001b[0m\u001b[1;32m    852\u001b[0m             \u001b[0mself\u001b[0m\u001b[0;34m.\u001b[0m\u001b[0m_parent_ident\u001b[0m\u001b[0;34m,\u001b[0m\u001b[0;34m\u001b[0m\u001b[0;34m\u001b[0m\u001b[0m\n\u001b[1;32m    853\u001b[0m             \u001b[0mself\u001b[0m\u001b[0;34m.\u001b[0m\u001b[0m_parent_header\u001b[0m\u001b[0;34m,\u001b[0m\u001b[0;34m\u001b[0m\u001b[0;34m\u001b[0m\u001b[0m\n",
            "\u001b[0;32m/usr/local/lib/python3.10/dist-packages/ipykernel/kernelbase.py\u001b[0m in \u001b[0;36m_input_request\u001b[0;34m(self, prompt, ident, parent, password)\u001b[0m\n\u001b[1;32m    893\u001b[0m             \u001b[0;32mexcept\u001b[0m \u001b[0mKeyboardInterrupt\u001b[0m\u001b[0;34m:\u001b[0m\u001b[0;34m\u001b[0m\u001b[0;34m\u001b[0m\u001b[0m\n\u001b[1;32m    894\u001b[0m                 \u001b[0;31m# re-raise KeyboardInterrupt, to truncate traceback\u001b[0m\u001b[0;34m\u001b[0m\u001b[0;34m\u001b[0m\u001b[0m\n\u001b[0;32m--> 895\u001b[0;31m                 \u001b[0;32mraise\u001b[0m \u001b[0mKeyboardInterrupt\u001b[0m\u001b[0;34m(\u001b[0m\u001b[0;34m\"Interrupted by user\"\u001b[0m\u001b[0;34m)\u001b[0m \u001b[0;32mfrom\u001b[0m \u001b[0;32mNone\u001b[0m\u001b[0;34m\u001b[0m\u001b[0;34m\u001b[0m\u001b[0m\n\u001b[0m\u001b[1;32m    896\u001b[0m             \u001b[0;32mexcept\u001b[0m \u001b[0mException\u001b[0m \u001b[0;32mas\u001b[0m \u001b[0me\u001b[0m\u001b[0;34m:\u001b[0m\u001b[0;34m\u001b[0m\u001b[0;34m\u001b[0m\u001b[0m\n\u001b[1;32m    897\u001b[0m                 \u001b[0mself\u001b[0m\u001b[0;34m.\u001b[0m\u001b[0mlog\u001b[0m\u001b[0;34m.\u001b[0m\u001b[0mwarning\u001b[0m\u001b[0;34m(\u001b[0m\u001b[0;34m\"Invalid Message:\"\u001b[0m\u001b[0;34m,\u001b[0m \u001b[0mexc_info\u001b[0m\u001b[0;34m=\u001b[0m\u001b[0;32mTrue\u001b[0m\u001b[0;34m)\u001b[0m\u001b[0;34m\u001b[0m\u001b[0;34m\u001b[0m\u001b[0m\n",
            "\u001b[0;31mKeyboardInterrupt\u001b[0m: Interrupted by user"
          ]
        }
      ]
    },
    {
      "cell_type": "code",
      "source": [
        "while True:\n",
        "  command = input('>')\n",
        "  print('ECHO', command)\n",
        "  if command.lower() == 'quit':\n",
        "    break\n"
      ],
      "metadata": {
        "id": "4ou2ijvzHvBK"
      },
      "execution_count": null,
      "outputs": []
    },
    {
      "cell_type": "code",
      "source": [
        "for numbers in range(1-10):\n",
        "   if number / 2 == 1:\n",
        "    print(number)\n",
        "print(f'we have {count} even numbers ')"
      ],
      "metadata": {
        "id": "Ic1BxhA-HvZz"
      },
      "execution_count": null,
      "outputs": []
    },
    {
      "cell_type": "code",
      "source": [
        "l = [ 1, 2,3,4,5,6,7,8,9]\n",
        "m =[]\n",
        "\n",
        "for i in range(len(l)):\n",
        "  if i >= 2:\n",
        "    m.append(i + 2)"
      ],
      "metadata": {
        "id": "Mm_RYf7MHvuK"
      },
      "execution_count": null,
      "outputs": []
    },
    {
      "cell_type": "code",
      "source": [
        "m"
      ],
      "metadata": {
        "id": "Zj1VrPi3RiCT",
        "colab": {
          "base_uri": "https://localhost:8080/"
        },
        "outputId": "5bb33239-97e0-4730-f068-9d1a947240f9"
      },
      "execution_count": null,
      "outputs": [
        {
          "output_type": "execute_result",
          "data": {
            "text/plain": [
              "[4, 5, 6, 7, 8, 9, 10]"
            ]
          },
          "metadata": {},
          "execution_count": 14
        }
      ]
    },
    {
      "cell_type": "code",
      "source": [
        "len(l)"
      ],
      "metadata": {
        "id": "x-_EvPraRiT3",
        "colab": {
          "base_uri": "https://localhost:8080/"
        },
        "outputId": "9d858a0e-bc17-490f-bffc-e78938bba462"
      },
      "execution_count": null,
      "outputs": [
        {
          "output_type": "execute_result",
          "data": {
            "text/plain": [
              "9"
            ]
          },
          "metadata": {},
          "execution_count": 10
        }
      ]
    },
    {
      "cell_type": "code",
      "source": [
        "s = ''\n",
        "if s == 10:\n",
        "  print('one')\n",
        "  if type(s)==int:\n",
        "    print('two')\n",
        "  elif type(s)==str:\n",
        "    print('three')\n",
        "  else :\n",
        "    print('four')\n",
        "elif s==50:\n",
        "  print('True')\n",
        "elif s==40:\n",
        "  print('false')\n",
        "else:\n",
        "  print('None')"
      ],
      "metadata": {
        "id": "86n6uwzdRihG",
        "colab": {
          "base_uri": "https://localhost:8080/"
        },
        "outputId": "b0babe0e-4cfb-44a1-990d-2335b2be7583"
      },
      "execution_count": null,
      "outputs": [
        {
          "output_type": "stream",
          "name": "stdout",
          "text": [
            "None\n"
          ]
        }
      ]
    },
    {
      "cell_type": "code",
      "source": [
        "l = [5,6,7,8,9,10]\n",
        "for i in l :\n",
        "  print (i)\n",
        "else:\n",
        "  print('my data is exhausted ')\n"
      ],
      "metadata": {
        "id": "4KLDyihbRivB",
        "colab": {
          "base_uri": "https://localhost:8080/"
        },
        "outputId": "eb59b5d6-9381-4929-96dc-ce41dd502589"
      },
      "execution_count": null,
      "outputs": [
        {
          "output_type": "stream",
          "name": "stdout",
          "text": [
            "5\n",
            "6\n",
            "7\n",
            "8\n",
            "9\n",
            "10\n",
            "my data is exhausted \n"
          ]
        }
      ]
    },
    {
      "cell_type": "code",
      "source": [
        "d = 10\n",
        "s = 0\n",
        "i = 1\n",
        "while i <= d:\n",
        "  s = s + i\n",
        "  i = i + 1\n",
        "  print(s,i)\n",
        "print(s)"
      ],
      "metadata": {
        "id": "w8fYx_AYRi9_",
        "colab": {
          "base_uri": "https://localhost:8080/"
        },
        "outputId": "5b1e424c-a521-485f-9ce4-a7b2ae3ee780"
      },
      "execution_count": null,
      "outputs": [
        {
          "output_type": "stream",
          "name": "stdout",
          "text": [
            "1 2\n",
            "3 3\n",
            "6 4\n",
            "10 5\n",
            "15 6\n",
            "21 7\n",
            "28 8\n",
            "36 9\n",
            "45 10\n",
            "55 11\n",
            "55\n"
          ]
        }
      ]
    },
    {
      "cell_type": "code",
      "source": [
        "for x in 'Morris ':\n",
        "  if x == 'd':\n",
        "    break\n",
        "  print(x)\n",
        "else:\n",
        "  print('unable')\n",
        "\n",
        "print('out of loop')"
      ],
      "metadata": {
        "colab": {
          "base_uri": "https://localhost:8080/"
        },
        "id": "6ioDBvJho5KG",
        "outputId": "291d2f0b-7224-4062-814c-a8c904954072"
      },
      "execution_count": null,
      "outputs": [
        {
          "output_type": "stream",
          "name": "stdout",
          "text": [
            "M\n",
            "o\n",
            "r\n",
            "r\n",
            "i\n",
            "s\n",
            " \n",
            "unable\n",
            "out of loop\n"
          ]
        }
      ]
    },
    {
      "cell_type": "code",
      "source": [
        "for i in 'Morris ':\n",
        "  if i == 'i':\n",
        "    continue\n",
        "  print(i)"
      ],
      "metadata": {
        "colab": {
          "base_uri": "https://localhost:8080/"
        },
        "id": "CK5IOFbYumc1",
        "outputId": "bb3778c2-0ca7-4aac-9d45-f2fdc0b32081"
      },
      "execution_count": null,
      "outputs": [
        {
          "output_type": "stream",
          "name": "stdout",
          "text": [
            "M\n",
            "o\n",
            "r\n",
            "r\n",
            "s\n",
            " \n"
          ]
        }
      ]
    },
    {
      "cell_type": "code",
      "source": [
        "a = input()\n",
        "b = int(a)\n",
        "type(b)"
      ],
      "metadata": {
        "colab": {
          "base_uri": "https://localhost:8080/",
          "height": 193
        },
        "id": "vT4ExqBAUa6L",
        "outputId": "6fce0ff1-99a7-443e-f9c4-3c8a6892f7e7"
      },
      "execution_count": 5,
      "outputs": [
        {
          "name": "stdout",
          "output_type": "stream",
          "text": [
            "dkjne\n"
          ]
        },
        {
          "output_type": "error",
          "ename": "ValueError",
          "evalue": "invalid literal for int() with base 10: 'dkjne'",
          "traceback": [
            "\u001b[0;31m---------------------------------------------------------------------------\u001b[0m",
            "\u001b[0;31mValueError\u001b[0m                                Traceback (most recent call last)",
            "\u001b[0;32m<ipython-input-5-803f6c7292aa>\u001b[0m in \u001b[0;36m<cell line: 2>\u001b[0;34m()\u001b[0m\n\u001b[1;32m      1\u001b[0m \u001b[0ma\u001b[0m \u001b[0;34m=\u001b[0m \u001b[0minput\u001b[0m\u001b[0;34m(\u001b[0m\u001b[0;34m)\u001b[0m\u001b[0;34m\u001b[0m\u001b[0;34m\u001b[0m\u001b[0m\n\u001b[0;32m----> 2\u001b[0;31m \u001b[0mb\u001b[0m \u001b[0;34m=\u001b[0m \u001b[0mint\u001b[0m\u001b[0;34m(\u001b[0m\u001b[0ma\u001b[0m\u001b[0;34m)\u001b[0m\u001b[0;34m\u001b[0m\u001b[0;34m\u001b[0m\u001b[0m\n\u001b[0m\u001b[1;32m      3\u001b[0m \u001b[0mtype\u001b[0m\u001b[0;34m(\u001b[0m\u001b[0mb\u001b[0m\u001b[0;34m)\u001b[0m\u001b[0;34m\u001b[0m\u001b[0;34m\u001b[0m\u001b[0m\n",
            "\u001b[0;31mValueError\u001b[0m: invalid literal for int() with base 10: 'dkjne'"
          ]
        }
      ]
    },
    {
      "cell_type": "code",
      "source": [
        "a = int(input('Insert only interger  '))\n",
        "print('Interger inserted ')\n",
        "l = [1, 2, 3, 4, 5 ,5 ,6 ,7 ,7, 5,5 ]\n",
        "m = []\n",
        "\n",
        "for i in l :\n",
        "  if i == a:\n",
        "    m.append(i)\n",
        "m"
      ],
      "metadata": {
        "colab": {
          "base_uri": "https://localhost:8080/"
        },
        "id": "jyaZuEf0Ub1B",
        "outputId": "d83f3cf1-d220-4e07-c32b-c80e8a249f50"
      },
      "execution_count": 7,
      "outputs": [
        {
          "output_type": "stream",
          "name": "stdout",
          "text": [
            "Insert only interger  5\n",
            "Interger inserted \n"
          ]
        },
        {
          "output_type": "execute_result",
          "data": {
            "text/plain": [
              "[5, 5, 5, 5]"
            ]
          },
          "metadata": {},
          "execution_count": 7
        }
      ]
    },
    {
      "cell_type": "code",
      "source": [
        "def greet(first_name, last_name ):\n",
        "  print(f'Hi {first_name} {last_name}')\n",
        "  print('Welcome aboard')\n",
        "\n",
        "\n",
        "greet('Morris', 'Sindet')\n",
        "greet('John', 'Doe')\n",
        "\n"
      ],
      "metadata": {
        "colab": {
          "base_uri": "https://localhost:8080/"
        },
        "id": "FiC1Ta0xUcAJ",
        "outputId": "4df401ea-b33f-4a5f-9411-bc1c905f9564"
      },
      "execution_count": 12,
      "outputs": [
        {
          "output_type": "stream",
          "name": "stdout",
          "text": [
            "Hi Morris Sindet\n",
            "Welcome aboard\n"
          ]
        }
      ]
    },
    {
      "cell_type": "code",
      "source": [
        "def greet(name):\n",
        "  print(f'Hi {name}')\n",
        "\n",
        "\n",
        "greet('Morris')"
      ],
      "metadata": {
        "colab": {
          "base_uri": "https://localhost:8080/"
        },
        "id": "gRsGN5fWUcEY",
        "outputId": "8032dc89-2d26-4ba1-895a-1de026d5b81c"
      },
      "execution_count": 16,
      "outputs": [
        {
          "output_type": "stream",
          "name": "stdout",
          "text": [
            "Hi Morris\n"
          ]
        }
      ]
    },
    {
      "cell_type": "code",
      "source": [
        "round(1.9)"
      ],
      "metadata": {
        "colab": {
          "base_uri": "https://localhost:8080/"
        },
        "id": "x9TOox_kUcHt",
        "outputId": "56997af5-7b60-44d1-8661-5241d87f2c70"
      },
      "execution_count": 17,
      "outputs": [
        {
          "output_type": "execute_result",
          "data": {
            "text/plain": [
              "2"
            ]
          },
          "metadata": {},
          "execution_count": 17
        }
      ]
    },
    {
      "cell_type": "code",
      "source": [
        "def greet(name):\n",
        "  print(f'Hi {name}')\n",
        "\n",
        "def get_greeting(name):\n",
        "  return f'Hi {name}'\n",
        "\n",
        "message = get_greeting('Morris')"
      ],
      "metadata": {
        "id": "bPZeyyWqUcKr"
      },
      "execution_count": 18,
      "outputs": []
    },
    {
      "cell_type": "code",
      "source": [],
      "metadata": {
        "id": "zWHr2Vo2UcOA"
      },
      "execution_count": null,
      "outputs": []
    },
    {
      "cell_type": "code",
      "source": [],
      "metadata": {
        "id": "fxv6_ixBUcRa"
      },
      "execution_count": null,
      "outputs": []
    },
    {
      "cell_type": "code",
      "source": [],
      "metadata": {
        "id": "trKEKP1RUcUs"
      },
      "execution_count": null,
      "outputs": []
    }
  ]
}