{
  "cells": [
    {
      "cell_type": "code",
      "execution_count": null,
      "metadata": {
        "id": "bPJSutsidf49"
      },
      "outputs": [],
      "source": [
        "a=6"
      ]
    },
    {
      "cell_type": "markdown",
      "metadata": {
        "id": "UxD6rDJ6eCcb"
      },
      "source": [
        "a"
      ]
    },
    {
      "cell_type": "code",
      "execution_count": null,
      "metadata": {
        "colab": {
          "base_uri": "https://localhost:8080/"
        },
        "id": "8OapLCc0fO1n",
        "outputId": "9a309e49-c75f-46cd-d985-06e6e3ea2fe1"
      },
      "outputs": [
        {
          "data": {
            "text/plain": [
              "(4+9j)"
            ]
          },
          "execution_count": 5,
          "metadata": {},
          "output_type": "execute_result"
        }
      ],
      "source": [
        "sudh = 4 + 9j\n",
        "sudh"
      ]
    },
    {
      "cell_type": "code",
      "execution_count": null,
      "metadata": {
        "colab": {
          "base_uri": "https://localhost:8080/"
        },
        "id": "uBfroqmIfPLI",
        "outputId": "202c9359-61fe-4eef-aa3a-57da626ac8c4"
      },
      "outputs": [
        {
          "data": {
            "text/plain": [
              "complex"
            ]
          },
          "execution_count": 6,
          "metadata": {},
          "output_type": "execute_result"
        }
      ],
      "source": [
        "type(sudh)"
      ]
    },
    {
      "cell_type": "code",
      "execution_count": null,
      "metadata": {
        "colab": {
          "base_uri": "https://localhost:8080/"
        },
        "id": "VYx6KQOjfPaW",
        "outputId": "97e733dd-8300-47e5-c52a-7e11b56779e3"
      },
      "outputs": [
        {
          "data": {
            "text/plain": [
              "9.0"
            ]
          },
          "execution_count": 7,
          "metadata": {},
          "output_type": "execute_result"
        }
      ],
      "source": [
        "sudh.imag"
      ]
    },
    {
      "cell_type": "code",
      "execution_count": null,
      "metadata": {
        "id": "WpXItMdkfPm_"
      },
      "outputs": [],
      "source": [
        "a = 23"
      ]
    },
    {
      "cell_type": "code",
      "execution_count": null,
      "metadata": {
        "id": "rvjKyLcVfPuW"
      },
      "outputs": [],
      "source": [
        "b = 24"
      ]
    },
    {
      "cell_type": "code",
      "execution_count": null,
      "metadata": {
        "id": "qejfqF0vfPyA"
      },
      "outputs": [],
      "source": [
        "c = True"
      ]
    },
    {
      "cell_type": "code",
      "execution_count": null,
      "metadata": {
        "colab": {
          "base_uri": "https://localhost:8080/"
        },
        "id": "V2ZCOi4RfP1j",
        "outputId": "1bfe004a-53cf-4fd5-80dc-dfbbb642adea"
      },
      "outputs": [
        {
          "data": {
            "text/plain": [
              "1"
            ]
          },
          "execution_count": 9,
          "metadata": {},
          "output_type": "execute_result"
        }
      ],
      "source": [
        "True + False"
      ]
    },
    {
      "cell_type": "code",
      "execution_count": null,
      "metadata": {
        "colab": {
          "base_uri": "https://localhost:8080/"
        },
        "id": "RmLrfE5SfP4j",
        "outputId": "b0707136-a821-4630-d34c-417cbf93058d"
      },
      "outputs": [
        {
          "data": {
            "text/plain": [
              "str"
            ]
          },
          "execution_count": 11,
          "metadata": {},
          "output_type": "execute_result"
        }
      ],
      "source": [
        "s = 'Morris '\n",
        "type(s)"
      ]
    },
    {
      "cell_type": "code",
      "execution_count": null,
      "metadata": {
        "colab": {
          "base_uri": "https://localhost:8080/"
        },
        "id": "cfd7NxtKfP8a",
        "outputId": "72653e9e-7700-4dbf-841d-defcbc3a1b2b"
      },
      "outputs": [
        {
          "name": "stdout",
          "output_type": "stream",
          "text": [
            "Morris \n"
          ]
        }
      ],
      "source": [
        "print(s)"
      ]
    },
    {
      "cell_type": "code",
      "execution_count": null,
      "metadata": {
        "colab": {
          "base_uri": "https://localhost:8080/"
        },
        "id": "l-cx2VO9fQIp",
        "outputId": "bc9110e4-16d0-45bc-8533-3a78033e8504"
      },
      "outputs": [
        {
          "data": {
            "text/plain": [
              "138812969138096"
            ]
          },
          "execution_count": 13,
          "metadata": {},
          "output_type": "execute_result"
        }
      ],
      "source": [
        "s= 'ineuron'\n",
        "id(s)"
      ]
    },
    {
      "cell_type": "code",
      "execution_count": null,
      "metadata": {
        "colab": {
          "base_uri": "https://localhost:8080/",
          "height": 35
        },
        "id": "EtK5DMrnfQM2",
        "outputId": "8971ffa8-5f2e-4cff-b4d6-93bf8a36b8a9"
      },
      "outputs": [
        {
          "data": {
            "application/vnd.google.colaboratory.intrinsic+json": {
              "type": "string"
            },
            "text/plain": [
              "'ineu'"
            ]
          },
          "execution_count": 29,
          "metadata": {},
          "output_type": "execute_result"
        }
      ],
      "source": [
        "s[0:4:1]"
      ]
    },
    {
      "cell_type": "code",
      "execution_count": null,
      "metadata": {
        "colab": {
          "base_uri": "https://localhost:8080/",
          "height": 35
        },
        "id": "KgXA8eOJspbV",
        "outputId": "b04d8930-e663-4fec-ca29-95e07c2aef57"
      },
      "outputs": [
        {
          "data": {
            "application/vnd.google.colaboratory.intrinsic+json": {
              "type": "string"
            },
            "text/plain": [
              "'nrei'"
            ]
          },
          "execution_count": 33,
          "metadata": {},
          "output_type": "execute_result"
        }
      ],
      "source": [
        "s[::-2]"
      ]
    },
    {
      "cell_type": "code",
      "execution_count": null,
      "metadata": {
        "colab": {
          "base_uri": "https://localhost:8080/"
        },
        "id": "mxFfLm-SsreI",
        "outputId": "86192eb6-b2c6-4c02-ccd5-99dee6b11622"
      },
      "outputs": [
        {
          "data": {
            "text/plain": [
              "list"
            ]
          },
          "execution_count": 34,
          "metadata": {},
          "output_type": "execute_result"
        }
      ],
      "source": [
        "c = []\n",
        "type(c)"
      ]
    },
    {
      "cell_type": "code",
      "execution_count": null,
      "metadata": {
        "colab": {
          "base_uri": "https://localhost:8080/"
        },
        "id": "QzZPgn5-srXd",
        "outputId": "8fc5e8b5-e116-4adc-8430-14553fa397f8"
      },
      "outputs": [
        {
          "data": {
            "text/plain": [
              "list"
            ]
          },
          "execution_count": 36,
          "metadata": {},
          "output_type": "execute_result"
        }
      ],
      "source": [
        "s = list()\n",
        "type(s)"
      ]
    },
    {
      "cell_type": "code",
      "execution_count": null,
      "metadata": {
        "colab": {
          "base_uri": "https://localhost:8080/"
        },
        "id": "ySOX3IrMsrNy",
        "outputId": "e9003892-df67-480a-c300-ff7fb16e82e4"
      },
      "outputs": [
        {
          "data": {
            "text/plain": [
              "[1, 2, 'Morris ', (6+9j), 'Allan', 45.6, ['kqnsjqb s', 1, 34.6]]"
            ]
          },
          "execution_count": 4,
          "metadata": {},
          "output_type": "execute_result"
        }
      ],
      "source": [
        "c = [1 , 2 , 'Morris ', 6 +9j , 'Allan', 45.6 ,['kqnsjqb s',1,34.6]]\n",
        "c"
      ]
    },
    {
      "cell_type": "code",
      "execution_count": null,
      "metadata": {
        "colab": {
          "base_uri": "https://localhost:8080/"
        },
        "id": "Qz04veMEsrC3",
        "outputId": "1867ed7a-0458-4e75-a06a-e4ff6727e061"
      },
      "outputs": [
        {
          "data": {
            "text/plain": [
              "34.6"
            ]
          },
          "execution_count": 5,
          "metadata": {},
          "output_type": "execute_result"
        }
      ],
      "source": [
        "c[-1][2]"
      ]
    },
    {
      "cell_type": "code",
      "execution_count": null,
      "metadata": {
        "colab": {
          "base_uri": "https://localhost:8080/"
        },
        "id": "TuZlyQ0aspO0",
        "outputId": "bbf9fbbb-cac6-40eb-a749-76e28e6f443d"
      },
      "outputs": [
        {
          "data": {
            "text/plain": [
              "range(0, 10)"
            ]
          },
          "execution_count": 6,
          "metadata": {},
          "output_type": "execute_result"
        }
      ],
      "source": [
        "range(10)"
      ]
    },
    {
      "cell_type": "code",
      "execution_count": null,
      "metadata": {
        "colab": {
          "base_uri": "https://localhost:8080/"
        },
        "id": "gtBofmh6spAs",
        "outputId": "5b77b59f-2e8d-4559-f188-67548f501109"
      },
      "outputs": [
        {
          "data": {
            "text/plain": [
              "[0, 1, 2, 3, 4, 5, 6, 7, 8, 9]"
            ]
          },
          "execution_count": 7,
          "metadata": {},
          "output_type": "execute_result"
        }
      ],
      "source": [
        "list(range(10))"
      ]
    },
    {
      "cell_type": "code",
      "execution_count": null,
      "metadata": {
        "colab": {
          "base_uri": "https://localhost:8080/"
        },
        "id": "qRqMFFOmso1-",
        "outputId": "b9cf1ff5-b472-4405-8329-b43c0155f8e7"
      },
      "outputs": [
        {
          "data": {
            "text/plain": [
              "[10, 9, 8, 7, 6, 5, 4]"
            ]
          },
          "execution_count": 10,
          "metadata": {},
          "output_type": "execute_result"
        }
      ],
      "source": [
        "list(range(10,3,-1))"
      ]
    },
    {
      "cell_type": "code",
      "execution_count": null,
      "metadata": {
        "colab": {
          "base_uri": "https://localhost:8080/"
        },
        "id": "-Sj2_yqYsosV",
        "outputId": "e7454f19-6709-4ec6-d908-b0d45c366f70"
      },
      "outputs": [
        {
          "data": {
            "text/plain": [
              "[10, 9, 8, 7, 6, 5]"
            ]
          },
          "execution_count": 12,
          "metadata": {},
          "output_type": "execute_result"
        }
      ],
      "source": [
        "list(range(10,4,-1))"
      ]
    },
    {
      "cell_type": "code",
      "execution_count": null,
      "metadata": {
        "id": "OVw71rvasocn"
      },
      "outputs": [],
      "source": [
        "i = [3, 4, 5, 6, 7, 8, 23, 4, 5, 5]\n",
        "m = []\n",
        "for l in i:\n",
        "    m.append(l+2)\n"
      ]
    },
    {
      "cell_type": "code",
      "execution_count": null,
      "metadata": {
        "colab": {
          "base_uri": "https://localhost:8080/"
        },
        "id": "oQ0C2Jm_soZP",
        "outputId": "e10a5c06-cdc3-4fb5-b992-00dfbfa0fc89"
      },
      "outputs": [
        {
          "name": "stdout",
          "output_type": "stream",
          "text": [
            "2.9\n"
          ]
        }
      ],
      "source": [
        "import math\n",
        "print(abs(2.9))\n",
        "\n"
      ]
    },
    {
      "cell_type": "code",
      "execution_count": null,
      "metadata": {
        "colab": {
          "base_uri": "https://localhost:8080/"
        },
        "id": "r7ykF5gwsoV6",
        "outputId": "c77ec8f5-1147-4566-b301-d0fc5b08d1d3"
      },
      "outputs": [
        {
          "name": "stdout",
          "output_type": "stream",
          "text": [
            "x: 1\n",
            "x: {x}, y: {y}\n"
          ]
        }
      ],
      "source": [
        "x= input (\"x: \")\n",
        "y= int(x) + 1\n",
        "print(f\"x: {x}, y: {y}\")"
      ]
    },
    {
      "cell_type": "code",
      "execution_count": null,
      "metadata": {
        "colab": {
          "base_uri": "https://localhost:8080/"
        },
        "id": "Lq4e6oBusoRy",
        "outputId": "4e593053-d1cd-4ae2-ca09-e4c3d25b31d7"
      },
      "outputs": [
        {
          "name": "stdout",
          "output_type": "stream",
          "text": [
            "its colder\n",
            "done \n"
          ]
        }
      ],
      "source": [
        "temperature = 25\n",
        "if temperature > 30:\n",
        "  print('Its warm')\n",
        "  print ('I know ')\n",
        "elif temperature > 20:\n",
        "  print('its colder')\n",
        "else:\n",
        "  print('Mary')\n",
        "print('done ')"
      ]
    },
    {
      "cell_type": "code",
      "execution_count": null,
      "metadata": {
        "colab": {
          "base_uri": "https://localhost:8080/"
        },
        "id": "9UFzH7C6soIO",
        "outputId": "23cc42aa-18d3-4b36-8a41-013067a9c0ab"
      },
      "outputs": [
        {
          "name": "stdout",
          "output_type": "stream",
          "text": [
            "Not eligible \n"
          ]
        }
      ],
      "source": [
        "age = 17\n",
        "\n",
        "message='Eligible' if age >=18 else 'Not eligible '\n",
        "print(message)"
      ]
    },
    {
      "cell_type": "code",
      "execution_count": null,
      "metadata": {
        "colab": {
          "base_uri": "https://localhost:8080/"
        },
        "id": "1ECYhgcXsn6x",
        "outputId": "16abc805-e68d-42f0-96f0-b416f4f285d9"
      },
      "outputs": [
        {
          "name": "stdout",
          "output_type": "stream",
          "text": [
            "Not Eligible\n"
          ]
        }
      ],
      "source": [
        "high_income = True\n",
        "good_credit = True\n",
        "student = True\n",
        "\n",
        "if (high_income or good_credit) and not student:\n",
        "  print('Eligible ')\n",
        "else:\n",
        "  print('Not Eligible')"
      ]
    },
    {
      "cell_type": "code",
      "execution_count": null,
      "metadata": {
        "colab": {
          "base_uri": "https://localhost:8080/"
        },
        "id": "-DCYCnv4sm0i",
        "outputId": "e7b7f6ab-f228-4834-940e-93e14c3d01ea"
      },
      "outputs": [
        {
          "name": "stdout",
          "output_type": "stream",
          "text": [
            "Eligible \n"
          ]
        }
      ],
      "source": [
        "age = 23\n",
        "if 18 <= age < 65:\n",
        "  print ('Eligible ')"
      ]
    },
    {
      "cell_type": "code",
      "execution_count": null,
      "metadata": {
        "colab": {
          "base_uri": "https://localhost:8080/"
        },
        "id": "7P3o6bRSHqws",
        "outputId": "d471584e-59bb-4394-e929-3698625a5ec7"
      },
      "outputs": [
        {
          "name": "stdout",
          "output_type": "stream",
          "text": [
            "c\n"
          ]
        }
      ],
      "source": [
        "if 10=='10':\n",
        "  print('a')\n",
        "elif 'bag'>'apple' and 'bag' > 'cat':\n",
        "  print('b')\n",
        "else:\n",
        "  print('c')"
      ]
    },
    {
      "cell_type": "code",
      "execution_count": null,
      "metadata": {
        "colab": {
          "base_uri": "https://localhost:8080/"
        },
        "id": "58Co5aSyHte_",
        "outputId": "f40d2bbb-bfd1-46c5-96ff-ece68dc35902"
      },
      "outputs": [
        {
          "name": "stdout",
          "output_type": "stream",
          "text": [
            "attempt 1 .\n",
            "attempt 2 ..\n",
            "attempt 3 ...\n"
          ]
        }
      ],
      "source": [
        "for number in range(3):\n",
        "  print('attempt', number + 1, (number + 1)*'.')"
      ]
    },
    {
      "cell_type": "code",
      "execution_count": null,
      "metadata": {
        "colab": {
          "base_uri": "https://localhost:8080/"
        },
        "id": "dGq_gNPoHtzS",
        "outputId": "e39cac85-7e1b-43c5-8c19-4ae90f065789"
      },
      "outputs": [
        {
          "name": "stdout",
          "output_type": "stream",
          "text": [
            "attempt\n",
            "attempt\n",
            "attempt\n",
            "Attempted 3 times and failed \n"
          ]
        }
      ],
      "source": [
        "successful = False\n",
        "for number in range (3):\n",
        "  print('attempt')\n",
        "  if successful:\n",
        "    print('successful')\n",
        "    break\n",
        "else:\n",
        "  print('Attempted 3 times and failed ')"
      ]
    },
    {
      "cell_type": "code",
      "execution_count": null,
      "metadata": {
        "colab": {
          "base_uri": "https://localhost:8080/"
        },
        "id": "WkzH0vU9HuIG",
        "outputId": "c418fbf2-7b61-4f21-99dc-00b884fcea65"
      },
      "outputs": [
        {
          "name": "stdout",
          "output_type": "stream",
          "text": [
            "(0, 0)\n",
            "(0, 1)\n",
            "(0, 2)\n",
            "(1, 0)\n",
            "(1, 1)\n",
            "(1, 2)\n",
            "(2, 0)\n",
            "(2, 1)\n",
            "(2, 2)\n",
            "(3, 0)\n",
            "(3, 1)\n",
            "(3, 2)\n",
            "(4, 0)\n",
            "(4, 1)\n",
            "(4, 2)\n"
          ]
        }
      ],
      "source": [
        "for x in range (5):\n",
        "  for y in range (3):\n",
        "    print(f'({x}, {y})')"
      ]
    },
    {
      "cell_type": "code",
      "execution_count": null,
      "metadata": {
        "colab": {
          "base_uri": "https://localhost:8080/"
        },
        "id": "YW2nnrVcHuVX",
        "outputId": "fbab3e8f-942e-47fa-f357-5339eea24e56"
      },
      "outputs": [
        {
          "name": "stdout",
          "output_type": "stream",
          "text": [
            "100\n",
            "50\n",
            "25\n",
            "12\n",
            "6\n",
            "3\n",
            "1\n"
          ]
        }
      ],
      "source": [
        "number = 100\n",
        "while number > 0:\n",
        "  print(number)\n",
        "  number//=2"
      ]
    },
    {
      "cell_type": "code",
      "execution_count": null,
      "metadata": {
        "colab": {
          "base_uri": "https://localhost:8080/",
          "height": 356
        },
        "id": "ru0VDCCBHulE",
        "outputId": "385f2c96-9bbd-43f4-c858-f95d41c1af15"
      },
      "outputs": [
        {
          "ename": "KeyboardInterrupt",
          "evalue": "Interrupted by user",
          "output_type": "error",
          "traceback": [
            "\u001b[0;31m---------------------------------------------------------------------------\u001b[0m",
            "\u001b[0;31mKeyboardInterrupt\u001b[0m                         Traceback (most recent call last)",
            "\u001b[0;32m<ipython-input-23-10fa1fb9f2ff>\u001b[0m in \u001b[0;36m<cell line: 2>\u001b[0;34m()\u001b[0m\n\u001b[1;32m      1\u001b[0m \u001b[0mcommand\u001b[0m \u001b[0;34m=\u001b[0m \u001b[0;34m''\u001b[0m\u001b[0;34m\u001b[0m\u001b[0;34m\u001b[0m\u001b[0m\n\u001b[1;32m      2\u001b[0m \u001b[0;32mwhile\u001b[0m \u001b[0mcommand\u001b[0m \u001b[0;34m!=\u001b[0m \u001b[0;34m'quit'\u001b[0m\u001b[0;34m:\u001b[0m\u001b[0;34m\u001b[0m\u001b[0;34m\u001b[0m\u001b[0m\n\u001b[0;32m----> 3\u001b[0;31m   \u001b[0mcommand\u001b[0m \u001b[0;34m=\u001b[0m \u001b[0minput\u001b[0m\u001b[0;34m(\u001b[0m\u001b[0;34m'>'\u001b[0m\u001b[0;34m)\u001b[0m\u001b[0;34m\u001b[0m\u001b[0;34m\u001b[0m\u001b[0m\n\u001b[0m\u001b[1;32m      4\u001b[0m   \u001b[0mprint\u001b[0m\u001b[0;34m(\u001b[0m\u001b[0;34m'ECHO'\u001b[0m \u001b[0;34m,\u001b[0m \u001b[0mcommand\u001b[0m\u001b[0;34m)\u001b[0m\u001b[0;34m\u001b[0m\u001b[0;34m\u001b[0m\u001b[0m\n",
            "\u001b[0;32m/usr/local/lib/python3.10/dist-packages/ipykernel/kernelbase.py\u001b[0m in \u001b[0;36mraw_input\u001b[0;34m(self, prompt)\u001b[0m\n\u001b[1;32m    849\u001b[0m                 \u001b[0;34m\"raw_input was called, but this frontend does not support input requests.\"\u001b[0m\u001b[0;34m\u001b[0m\u001b[0;34m\u001b[0m\u001b[0m\n\u001b[1;32m    850\u001b[0m             )\n\u001b[0;32m--> 851\u001b[0;31m         return self._input_request(str(prompt),\n\u001b[0m\u001b[1;32m    852\u001b[0m             \u001b[0mself\u001b[0m\u001b[0;34m.\u001b[0m\u001b[0m_parent_ident\u001b[0m\u001b[0;34m,\u001b[0m\u001b[0;34m\u001b[0m\u001b[0;34m\u001b[0m\u001b[0m\n\u001b[1;32m    853\u001b[0m             \u001b[0mself\u001b[0m\u001b[0;34m.\u001b[0m\u001b[0m_parent_header\u001b[0m\u001b[0;34m,\u001b[0m\u001b[0;34m\u001b[0m\u001b[0;34m\u001b[0m\u001b[0m\n",
            "\u001b[0;32m/usr/local/lib/python3.10/dist-packages/ipykernel/kernelbase.py\u001b[0m in \u001b[0;36m_input_request\u001b[0;34m(self, prompt, ident, parent, password)\u001b[0m\n\u001b[1;32m    893\u001b[0m             \u001b[0;32mexcept\u001b[0m \u001b[0mKeyboardInterrupt\u001b[0m\u001b[0;34m:\u001b[0m\u001b[0;34m\u001b[0m\u001b[0;34m\u001b[0m\u001b[0m\n\u001b[1;32m    894\u001b[0m                 \u001b[0;31m# re-raise KeyboardInterrupt, to truncate traceback\u001b[0m\u001b[0;34m\u001b[0m\u001b[0;34m\u001b[0m\u001b[0m\n\u001b[0;32m--> 895\u001b[0;31m                 \u001b[0;32mraise\u001b[0m \u001b[0mKeyboardInterrupt\u001b[0m\u001b[0;34m(\u001b[0m\u001b[0;34m\"Interrupted by user\"\u001b[0m\u001b[0;34m)\u001b[0m \u001b[0;32mfrom\u001b[0m \u001b[0;32mNone\u001b[0m\u001b[0;34m\u001b[0m\u001b[0;34m\u001b[0m\u001b[0m\n\u001b[0m\u001b[1;32m    896\u001b[0m             \u001b[0;32mexcept\u001b[0m \u001b[0mException\u001b[0m \u001b[0;32mas\u001b[0m \u001b[0me\u001b[0m\u001b[0;34m:\u001b[0m\u001b[0;34m\u001b[0m\u001b[0;34m\u001b[0m\u001b[0m\n\u001b[1;32m    897\u001b[0m                 \u001b[0mself\u001b[0m\u001b[0;34m.\u001b[0m\u001b[0mlog\u001b[0m\u001b[0;34m.\u001b[0m\u001b[0mwarning\u001b[0m\u001b[0;34m(\u001b[0m\u001b[0;34m\"Invalid Message:\"\u001b[0m\u001b[0;34m,\u001b[0m \u001b[0mexc_info\u001b[0m\u001b[0;34m=\u001b[0m\u001b[0;32mTrue\u001b[0m\u001b[0;34m)\u001b[0m\u001b[0;34m\u001b[0m\u001b[0;34m\u001b[0m\u001b[0m\n",
            "\u001b[0;31mKeyboardInterrupt\u001b[0m: Interrupted by user"
          ]
        }
      ],
      "source": [
        "command = ''\n",
        "while command != 'quit':\n",
        "  command = input('>')\n",
        "  print('ECHO' , command)"
      ]
    },
    {
      "cell_type": "code",
      "execution_count": null,
      "metadata": {
        "id": "4ou2ijvzHvBK"
      },
      "outputs": [],
      "source": [
        "while True:\n",
        "  command = input('>')\n",
        "  print('ECHO', command)\n",
        "  if command.lower() == 'quit':\n",
        "    break\n"
      ]
    },
    {
      "cell_type": "code",
      "execution_count": null,
      "metadata": {
        "id": "Ic1BxhA-HvZz"
      },
      "outputs": [],
      "source": [
        "for numbers in range(1-10):\n",
        "   if number / 2 == 1:\n",
        "    print(number)\n",
        "print(f'we have {count} even numbers ')"
      ]
    },
    {
      "cell_type": "code",
      "execution_count": null,
      "metadata": {
        "id": "Mm_RYf7MHvuK"
      },
      "outputs": [],
      "source": [
        "l = [ 1, 2,3,4,5,6,7,8,9]\n",
        "m =[]\n",
        "\n",
        "for i in range(len(l)):\n",
        "  if i >= 2:\n",
        "    m.append(i + 2)"
      ]
    },
    {
      "cell_type": "code",
      "execution_count": null,
      "metadata": {
        "colab": {
          "base_uri": "https://localhost:8080/"
        },
        "id": "Zj1VrPi3RiCT",
        "outputId": "5bb33239-97e0-4730-f068-9d1a947240f9"
      },
      "outputs": [
        {
          "data": {
            "text/plain": [
              "[4, 5, 6, 7, 8, 9, 10]"
            ]
          },
          "execution_count": 14,
          "metadata": {},
          "output_type": "execute_result"
        }
      ],
      "source": [
        "m"
      ]
    },
    {
      "cell_type": "code",
      "execution_count": null,
      "metadata": {
        "colab": {
          "base_uri": "https://localhost:8080/"
        },
        "id": "x-_EvPraRiT3",
        "outputId": "9d858a0e-bc17-490f-bffc-e78938bba462"
      },
      "outputs": [
        {
          "data": {
            "text/plain": [
              "9"
            ]
          },
          "execution_count": 10,
          "metadata": {},
          "output_type": "execute_result"
        }
      ],
      "source": [
        "len(l)"
      ]
    },
    {
      "cell_type": "code",
      "execution_count": null,
      "metadata": {
        "colab": {
          "base_uri": "https://localhost:8080/"
        },
        "id": "86n6uwzdRihG",
        "outputId": "b0babe0e-4cfb-44a1-990d-2335b2be7583"
      },
      "outputs": [
        {
          "name": "stdout",
          "output_type": "stream",
          "text": [
            "None\n"
          ]
        }
      ],
      "source": [
        "s = ''\n",
        "if s == 10:\n",
        "  print('one')\n",
        "  if type(s)==int:\n",
        "    print('two')\n",
        "  elif type(s)==str:\n",
        "    print('three')\n",
        "  else :\n",
        "    print('four')\n",
        "elif s==50:\n",
        "  print('True')\n",
        "elif s==40:\n",
        "  print('false')\n",
        "else:\n",
        "  print('None')"
      ]
    },
    {
      "cell_type": "code",
      "execution_count": null,
      "metadata": {
        "colab": {
          "base_uri": "https://localhost:8080/"
        },
        "id": "4KLDyihbRivB",
        "outputId": "eb59b5d6-9381-4929-96dc-ce41dd502589"
      },
      "outputs": [
        {
          "name": "stdout",
          "output_type": "stream",
          "text": [
            "5\n",
            "6\n",
            "7\n",
            "8\n",
            "9\n",
            "10\n",
            "my data is exhausted \n"
          ]
        }
      ],
      "source": [
        "l = [5,6,7,8,9,10]\n",
        "for i in l :\n",
        "  print (i)\n",
        "else:\n",
        "  print('my data is exhausted ')\n"
      ]
    },
    {
      "cell_type": "code",
      "execution_count": null,
      "metadata": {
        "colab": {
          "base_uri": "https://localhost:8080/"
        },
        "id": "w8fYx_AYRi9_",
        "outputId": "5b1e424c-a521-485f-9ce4-a7b2ae3ee780"
      },
      "outputs": [
        {
          "name": "stdout",
          "output_type": "stream",
          "text": [
            "1 2\n",
            "3 3\n",
            "6 4\n",
            "10 5\n",
            "15 6\n",
            "21 7\n",
            "28 8\n",
            "36 9\n",
            "45 10\n",
            "55 11\n",
            "55\n"
          ]
        }
      ],
      "source": [
        "d = 10\n",
        "s = 0\n",
        "i = 1\n",
        "while i <= d:\n",
        "  s = s + i\n",
        "  i = i + 1\n",
        "  print(s,i)\n",
        "print(s)"
      ]
    },
    {
      "cell_type": "code",
      "execution_count": null,
      "metadata": {
        "colab": {
          "base_uri": "https://localhost:8080/"
        },
        "id": "6ioDBvJho5KG",
        "outputId": "291d2f0b-7224-4062-814c-a8c904954072"
      },
      "outputs": [
        {
          "name": "stdout",
          "output_type": "stream",
          "text": [
            "M\n",
            "o\n",
            "r\n",
            "r\n",
            "i\n",
            "s\n",
            " \n",
            "unable\n",
            "out of loop\n"
          ]
        }
      ],
      "source": [
        "for x in 'Morris ':\n",
        "  if x == 'd':\n",
        "    break\n",
        "  print(x)\n",
        "else:\n",
        "  print('unable')\n",
        "\n",
        "print('out of loop')"
      ]
    },
    {
      "cell_type": "code",
      "execution_count": null,
      "metadata": {
        "colab": {
          "base_uri": "https://localhost:8080/"
        },
        "id": "CK5IOFbYumc1",
        "outputId": "bb3778c2-0ca7-4aac-9d45-f2fdc0b32081"
      },
      "outputs": [
        {
          "name": "stdout",
          "output_type": "stream",
          "text": [
            "M\n",
            "o\n",
            "r\n",
            "r\n",
            "s\n",
            " \n"
          ]
        }
      ],
      "source": [
        "for i in 'Morris ':\n",
        "  if i == 'i':\n",
        "    continue\n",
        "  print(i)"
      ]
    },
    {
      "cell_type": "code",
      "execution_count": 5,
      "metadata": {
        "colab": {
          "base_uri": "https://localhost:8080/",
          "height": 193
        },
        "id": "vT4ExqBAUa6L",
        "outputId": "6fce0ff1-99a7-443e-f9c4-3c8a6892f7e7"
      },
      "outputs": [
        {
          "name": "stdout",
          "output_type": "stream",
          "text": [
            "dkjne\n"
          ]
        },
        {
          "ename": "ValueError",
          "evalue": "invalid literal for int() with base 10: 'dkjne'",
          "output_type": "error",
          "traceback": [
            "\u001b[0;31m---------------------------------------------------------------------------\u001b[0m",
            "\u001b[0;31mValueError\u001b[0m                                Traceback (most recent call last)",
            "\u001b[0;32m<ipython-input-5-803f6c7292aa>\u001b[0m in \u001b[0;36m<cell line: 2>\u001b[0;34m()\u001b[0m\n\u001b[1;32m      1\u001b[0m \u001b[0ma\u001b[0m \u001b[0;34m=\u001b[0m \u001b[0minput\u001b[0m\u001b[0;34m(\u001b[0m\u001b[0;34m)\u001b[0m\u001b[0;34m\u001b[0m\u001b[0;34m\u001b[0m\u001b[0m\n\u001b[0;32m----> 2\u001b[0;31m \u001b[0mb\u001b[0m \u001b[0;34m=\u001b[0m \u001b[0mint\u001b[0m\u001b[0;34m(\u001b[0m\u001b[0ma\u001b[0m\u001b[0;34m)\u001b[0m\u001b[0;34m\u001b[0m\u001b[0;34m\u001b[0m\u001b[0m\n\u001b[0m\u001b[1;32m      3\u001b[0m \u001b[0mtype\u001b[0m\u001b[0;34m(\u001b[0m\u001b[0mb\u001b[0m\u001b[0;34m)\u001b[0m\u001b[0;34m\u001b[0m\u001b[0;34m\u001b[0m\u001b[0m\n",
            "\u001b[0;31mValueError\u001b[0m: invalid literal for int() with base 10: 'dkjne'"
          ]
        }
      ],
      "source": [
        "a = input()\n",
        "b = int(a)\n",
        "type(b)"
      ]
    },
    {
      "cell_type": "code",
      "execution_count": 7,
      "metadata": {
        "colab": {
          "base_uri": "https://localhost:8080/"
        },
        "id": "jyaZuEf0Ub1B",
        "outputId": "d83f3cf1-d220-4e07-c32b-c80e8a249f50"
      },
      "outputs": [
        {
          "name": "stdout",
          "output_type": "stream",
          "text": [
            "Insert only interger  5\n",
            "Interger inserted \n"
          ]
        },
        {
          "data": {
            "text/plain": [
              "[5, 5, 5, 5]"
            ]
          },
          "execution_count": 7,
          "metadata": {},
          "output_type": "execute_result"
        }
      ],
      "source": [
        "a = int(input('Insert only interger  '))\n",
        "print('Interger inserted ')\n",
        "l = [1, 2, 3, 4, 5 ,5 ,6 ,7 ,7, 5,5 ]\n",
        "m = []\n",
        "\n",
        "for i in l :\n",
        "  if i == a:\n",
        "    m.append(i)\n",
        "m"
      ]
    },
    {
      "cell_type": "code",
      "execution_count": 2,
      "metadata": {
        "id": "FiC1Ta0xUcAJ"
      },
      "outputs": [
        {
          "name": "stdout",
          "output_type": "stream",
          "text": [
            "['A', 'b', 'c']\n",
            "['A', 'b', 'c', 'd']\n"
          ]
        }
      ],
      "source": [
        "letters = ['a','b','c','d']\n",
        "letters[0]= 'A'\n",
        "print(letters[0:3])\n",
        "print(letters)"
      ]
    },
    {
      "cell_type": "code",
      "execution_count": 6,
      "metadata": {
        "id": "gRsGN5fWUcEY"
      },
      "outputs": [
        {
          "name": "stdout",
          "output_type": "stream",
          "text": [
            "[19, 17, 15, 13, 11, 9, 7, 5, 3, 1]\n"
          ]
        }
      ],
      "source": [
        "numbers = list(range(20))\n",
        "print(numbers [::-2] )"
      ]
    },
    {
      "cell_type": "code",
      "execution_count": 10,
      "metadata": {
        "id": "x9TOox_kUcHt"
      },
      "outputs": [
        {
          "name": "stdout",
          "output_type": "stream",
          "text": [
            "1\n",
            "7\n",
            "[2, 3, 4, 5, 6]\n"
          ]
        }
      ],
      "source": [
        "numbers = [1,2,3,4,5,6,7]\n",
        "first,*other,last= numbers\n",
        "print(first)\n",
        "print(last)\n",
        "print(other)\n"
      ]
    },
    {
      "cell_type": "code",
      "execution_count": 3,
      "metadata": {
        "id": "bPZeyyWqUcKr"
      },
      "outputs": [
        {
          "name": "stdout",
          "output_type": "stream",
          "text": [
            "0 a\n",
            "1 b\n",
            "2 c\n",
            "3 d\n"
          ]
        }
      ],
      "source": [
        "letters = ['a','b','c','d']\n",
        "items=(0,'a')\n",
        "index, letter = items\n",
        "for index, letter in enumerate(letters):\n",
        "    print(index,letter)"
      ]
    },
    {
      "cell_type": "code",
      "execution_count": 10,
      "metadata": {
        "id": "zWHr2Vo2UcOA"
      },
      "outputs": [
        {
          "name": "stdout",
          "output_type": "stream",
          "text": [
            "['-', 'a', 'b', 'c', 'd', 'e']\n",
            "['e']\n"
          ]
        }
      ],
      "source": [
        "#  add new items and removing items in a list\n",
        "letters = ['a','b','c','d']\n",
        "letters.append('e')\n",
        "letters.insert(0,'-' )\n",
        "print(letters)\n",
        "\n",
        "\n",
        "# Remove \n",
        "letters.pop(0)\n",
        "letters.remove('b')\n",
        "del letters[0:3]\n",
        "letters.clear()\n",
        "print(letters)\n",
        "\n",
        "\n"
      ]
    },
    {
      "cell_type": "code",
      "execution_count": 14,
      "metadata": {
        "id": "fxv6_ixBUcRa"
      },
      "outputs": [
        {
          "name": "stdout",
          "output_type": "stream",
          "text": [
            "0\n"
          ]
        }
      ],
      "source": [
        "# Finding items in a list \n",
        "letters =['a','b','d','e','f']\n",
        "print(letters.count('g'))\n",
        "if 'g' in letters :\n",
        "    print(letters.index('g'))"
      ]
    },
    {
      "cell_type": "code",
      "execution_count": 18,
      "metadata": {
        "id": "trKEKP1RUcUs"
      },
      "outputs": [
        {
          "name": "stdout",
          "output_type": "stream",
          "text": [
            "[51, 8, 6, 3, 2]\n"
          ]
        }
      ],
      "source": [
        "# Sorting lists\n",
        "numbers = [3,51,2,8,6]\n",
        "# numbers.sort(reverse=True)\n",
        "print(sorted(numbers, reverse=True))\n",
        "# sorted(numbers)\n",
        "# print(numbers)"
      ]
    },
    {
      "cell_type": "code",
      "execution_count": 21,
      "metadata": {},
      "outputs": [
        {
          "name": "stdout",
          "output_type": "stream",
          "text": [
            "[('Product2', 9), ('Product1', 10), ('Product3', 12)]\n"
          ]
        }
      ],
      "source": [
        "\n",
        "items = [\n",
        "    ('Product1', 10),\n",
        "    ('Product2', 9),\n",
        "    ('Product3', 12),\n",
        "]\n",
        "\n",
        "def sort_item(item):\n",
        "    return item[1]\n",
        "\n",
        "items.sort(key=sort_item)\n",
        "print(items)"
      ]
    },
    {
      "cell_type": "code",
      "execution_count": 22,
      "metadata": {},
      "outputs": [
        {
          "name": "stdout",
          "output_type": "stream",
          "text": [
            "[('Product2', 9), ('Product1', 10), ('Product3', 12)]\n"
          ]
        }
      ],
      "source": [
        "# Lambda function \n",
        "items = [\n",
        "    ('Product1', 10),\n",
        "    ('Product2', 9),\n",
        "    ('Product3', 12),\n",
        "]\n",
        "\n",
        "\n",
        "items.sort(key=lambda item:item[1])\n",
        "print(items)"
      ]
    },
    {
      "cell_type": "code",
      "execution_count": 25,
      "metadata": {},
      "outputs": [
        {
          "name": "stdout",
          "output_type": "stream",
          "text": [
            "[10, 9, 12]\n"
          ]
        }
      ],
      "source": [
        "# map function \n",
        "items = [\n",
        "    ('Product1', 10),\n",
        "    ('Product2', 9),\n",
        "    ('Product3', 12),\n",
        "]\n",
        "\n",
        "prices=[]\n",
        "for item in items:\n",
        "    prices.append(item[1])\n",
        "\n",
        "print(prices)\n"
      ]
    },
    {
      "cell_type": "code",
      "execution_count": 64,
      "metadata": {},
      "outputs": [
        {
          "name": "stdout",
          "output_type": "stream",
          "text": [
            "10\n",
            "9\n",
            "12\n"
          ]
        }
      ],
      "source": [
        "# map function \n",
        "items = [\n",
        "    ('Product1', 10),\n",
        "    ('Product2', 9),\n",
        "    ('Product3', 12),\n",
        "]\n",
        "x= map(lambda item:item[1], items)\n",
        "for item in x:\n",
        "    print(item)\n",
        "\n",
        "# print(x)"
      ]
    },
    {
      "cell_type": "code",
      "execution_count": 67,
      "metadata": {},
      "outputs": [
        {
          "name": "stdout",
          "output_type": "stream",
          "text": [
            "('Product1', 10)\n",
            "('Product3', 12)\n"
          ]
        }
      ],
      "source": [
        "# Filter function \n",
        "items = [\n",
        "    ('Product1', 10),\n",
        "    ('Product2', 9),\n",
        "    ('Product3', 12),\n",
        "]\n",
        "filtered=[]\n",
        "x= filter(lambda item:item[1] >=10, items)\n",
        "for i in x :\n",
        "    print(i)"
      ]
    },
    {
      "cell_type": "code",
      "execution_count": 16,
      "metadata": {},
      "outputs": [
        {
          "data": {
            "text/plain": [
              "False"
            ]
          },
          "execution_count": 16,
          "metadata": {},
          "output_type": "execute_result"
        }
      ],
      "source": [
        "# try to return a prime number or not a prime number \n",
        "def is_prime(number):\n",
        "    for i in range(2,number):\n",
        "        if number % i==0:\n",
        "            return False\n",
        "            break\n",
        "    else:\n",
        "        return True\n",
        "\n",
        "is_prime(42)  \n",
        "    "
      ]
    },
    {
      "cell_type": "code",
      "execution_count": 21,
      "metadata": {},
      "outputs": [
        {
          "name": "stdout",
          "output_type": "stream",
          "text": [
            "morris\n",
            "7\n",
            "sindet\n",
            "6\n",
            "45\n"
          ]
        }
      ],
      "source": [
        "for i in ['Morris',7,'sindet',6,'45']:\n",
        "    print(i)"
      ]
    },
    {
      "cell_type": "code",
      "execution_count": 23,
      "metadata": {},
      "outputs": [
        {
          "ename": "TypeError",
          "evalue": "'str' object is not an iterator",
          "output_type": "error",
          "traceback": [
            "\u001b[1;31m---------------------------------------------------------------------------\u001b[0m",
            "\u001b[1;31mTypeError\u001b[0m                                 Traceback (most recent call last)",
            "Cell \u001b[1;32mIn[23], line 1\u001b[0m\n\u001b[1;32m----> 1\u001b[0m \u001b[38;5;28;43mnext\u001b[39;49m\u001b[43m(\u001b[49m\u001b[38;5;124;43m'\u001b[39;49m\u001b[38;5;124;43msudh\u001b[39;49m\u001b[38;5;124;43m'\u001b[39;49m\u001b[43m)\u001b[49m\n",
            "\u001b[1;31mTypeError\u001b[0m: 'str' object is not an iterator"
          ]
        }
      ],
      "source": [
        "next('sudh')"
      ]
    },
    {
      "cell_type": "code",
      "execution_count": 24,
      "metadata": {},
      "outputs": [
        {
          "data": {
            "text/plain": [
              "str_iterator"
            ]
          },
          "execution_count": 24,
          "metadata": {},
          "output_type": "execute_result"
        }
      ],
      "source": [
        "a =  iter('sudh')\n",
        "type(a)"
      ]
    },
    {
      "cell_type": "code",
      "execution_count": 25,
      "metadata": {},
      "outputs": [
        {
          "data": {
            "text/plain": [
              "range(0, 10)"
            ]
          },
          "execution_count": 25,
          "metadata": {},
          "output_type": "execute_result"
        }
      ],
      "source": [
        "range(10)"
      ]
    },
    {
      "cell_type": "code",
      "execution_count": 26,
      "metadata": {},
      "outputs": [
        {
          "ename": "TypeError",
          "evalue": "'range' object is not an iterator",
          "output_type": "error",
          "traceback": [
            "\u001b[1;31m---------------------------------------------------------------------------\u001b[0m",
            "\u001b[1;31mTypeError\u001b[0m                                 Traceback (most recent call last)",
            "Cell \u001b[1;32mIn[26], line 1\u001b[0m\n\u001b[1;32m----> 1\u001b[0m \u001b[38;5;28;43mnext\u001b[39;49m\u001b[43m(\u001b[49m\u001b[38;5;28;43mrange\u001b[39;49m\u001b[43m(\u001b[49m\u001b[38;5;241;43m10\u001b[39;49m\u001b[43m)\u001b[49m\u001b[43m)\u001b[49m\n",
            "\u001b[1;31mTypeError\u001b[0m: 'range' object is not an iterator"
          ]
        }
      ],
      "source": [
        "next(range(10))"
      ]
    },
    {
      "cell_type": "code",
      "execution_count": 27,
      "metadata": {},
      "outputs": [],
      "source": [
        "# make range iterator\n",
        "d = iter(range(10))"
      ]
    },
    {
      "cell_type": "code",
      "execution_count": 38,
      "metadata": {},
      "outputs": [
        {
          "ename": "StopIteration",
          "evalue": "",
          "output_type": "error",
          "traceback": [
            "\u001b[1;31m---------------------------------------------------------------------------\u001b[0m",
            "\u001b[1;31mStopIteration\u001b[0m                             Traceback (most recent call last)",
            "Cell \u001b[1;32mIn[38], line 1\u001b[0m\n\u001b[1;32m----> 1\u001b[0m \u001b[38;5;28;43mnext\u001b[39;49m\u001b[43m(\u001b[49m\u001b[43md\u001b[49m\u001b[43m)\u001b[49m\n",
            "\u001b[1;31mStopIteration\u001b[0m: "
          ]
        }
      ],
      "source": [
        "next(d)"
      ]
    },
    {
      "cell_type": "code",
      "execution_count": 39,
      "metadata": {},
      "outputs": [],
      "source": [
        "def test(n):\n",
        "    for i in range(n) :\n",
        "        print(i)\n",
        "    "
      ]
    },
    {
      "cell_type": "code",
      "execution_count": 40,
      "metadata": {},
      "outputs": [
        {
          "name": "stdout",
          "output_type": "stream",
          "text": [
            "0\n",
            "1\n",
            "2\n",
            "3\n",
            "4\n"
          ]
        }
      ],
      "source": [
        "test(5)"
      ]
    },
    {
      "cell_type": "code",
      "execution_count": 44,
      "metadata": {},
      "outputs": [
        {
          "data": {
            "text/plain": [
              "<generator object gencube at 0x000001DCEECE84A0>"
            ]
          },
          "execution_count": 44,
          "metadata": {},
          "output_type": "execute_result"
        }
      ],
      "source": [
        "def gencube(n):\n",
        "    for i in range(n):\n",
        "        yield i**3\n",
        "    \n",
        "\n",
        "gencube(10)\n",
        "    "
      ]
    },
    {
      "cell_type": "code",
      "execution_count": 45,
      "metadata": {},
      "outputs": [
        {
          "name": "stdout",
          "output_type": "stream",
          "text": [
            "0\n",
            "1\n",
            "8\n",
            "27\n",
            "64\n",
            "125\n",
            "216\n",
            "343\n",
            "512\n",
            "729\n"
          ]
        }
      ],
      "source": [
        "for i in gencube(10):\n",
        "    print(i)"
      ]
    },
    {
      "cell_type": "code",
      "execution_count": 46,
      "metadata": {},
      "outputs": [
        {
          "data": {
            "text/plain": [
              "0"
            ]
          },
          "execution_count": 46,
          "metadata": {},
          "output_type": "execute_result"
        }
      ],
      "source": [
        "next(gencube(10))"
      ]
    },
    {
      "cell_type": "code",
      "execution_count": 48,
      "metadata": {},
      "outputs": [],
      "source": [
        "d=iter(gencube(10))"
      ]
    },
    {
      "cell_type": "code",
      "execution_count": 54,
      "metadata": {},
      "outputs": [
        {
          "data": {
            "text/plain": [
              "125"
            ]
          },
          "execution_count": 54,
          "metadata": {},
          "output_type": "execute_result"
        }
      ],
      "source": [
        "next(d)"
      ]
    },
    {
      "cell_type": "code",
      "execution_count": 55,
      "metadata": {},
      "outputs": [
        {
          "data": {
            "text/plain": [
              "<generator object genfi at 0x000001DCEED55D60>"
            ]
          },
          "execution_count": 55,
          "metadata": {},
          "output_type": "execute_result"
        }
      ],
      "source": [
        "#generate fibonacci numbers \n",
        "def genfi(n):\n",
        "    a=1\n",
        "    b=1\n",
        "    for i in range(n):\n",
        "        yield a\n",
        "        a,b=b,a+b\n",
        "\n",
        "genfi(10)"
      ]
    },
    {
      "cell_type": "code",
      "execution_count": 56,
      "metadata": {},
      "outputs": [
        {
          "name": "stdout",
          "output_type": "stream",
          "text": [
            "1\n",
            "1\n",
            "2\n",
            "3\n",
            "5\n",
            "8\n",
            "13\n",
            "21\n",
            "34\n",
            "55\n"
          ]
        }
      ],
      "source": [
        "for i in genfi(10):\n",
        "    print(i)"
      ]
    },
    {
      "cell_type": "code",
      "execution_count": 57,
      "metadata": {},
      "outputs": [
        {
          "data": {
            "text/plain": [
              "16"
            ]
          },
          "execution_count": 57,
          "metadata": {},
          "output_type": "execute_result"
        }
      ],
      "source": [
        "# Convert celcius to farenheit and vice versa \n",
        "def square(n):\n",
        "    return n**2\n",
        "\n",
        "\n",
        "square(4)\n"
      ]
    },
    {
      "cell_type": "code",
      "execution_count": 59,
      "metadata": {},
      "outputs": [
        {
          "data": {
            "text/plain": [
              "[9, 16, 25, 36, 49, 64, 81, 81]"
            ]
          },
          "execution_count": 59,
          "metadata": {},
          "output_type": "execute_result"
        }
      ],
      "source": [
        "l = [3,4,5,6,7,8,9,9]\n",
        "n=[]\n",
        "for i in l:\n",
        "    n.append(square(i))\n",
        "\n",
        "\n",
        "n"
      ]
    },
    {
      "cell_type": "code",
      "execution_count": 60,
      "metadata": {},
      "outputs": [
        {
          "data": {
            "text/plain": [
              "[9, 16, 25, 36, 49, 64, 81, 81]"
            ]
          },
          "execution_count": 60,
          "metadata": {},
          "output_type": "execute_result"
        }
      ],
      "source": [
        "# list comprehension \n",
        "[i**2 for i in l]"
      ]
    },
    {
      "cell_type": "code",
      "execution_count": 62,
      "metadata": {},
      "outputs": [
        {
          "data": {
            "text/plain": [
              "[9, 16, 25, 36, 49, 64, 81, 81]"
            ]
          },
          "execution_count": 62,
          "metadata": {},
          "output_type": "execute_result"
        }
      ],
      "source": [
        "# map function \n",
        "list(map(square,l))"
      ]
    },
    {
      "cell_type": "code",
      "execution_count": 63,
      "metadata": {},
      "outputs": [
        {
          "name": "stdout",
          "output_type": "stream",
          "text": [
            "9\n",
            "16\n",
            "25\n",
            "36\n",
            "49\n",
            "64\n",
            "81\n",
            "81\n"
          ]
        }
      ],
      "source": [
        "for i in map(square,l):\n",
        "    print(i)"
      ]
    },
    {
      "cell_type": "code",
      "execution_count": 65,
      "metadata": {},
      "outputs": [
        {
          "data": {
            "text/plain": [
              "[3, 4, 5, 6, 7, 8, 9, 9]"
            ]
          },
          "execution_count": 65,
          "metadata": {},
          "output_type": "execute_result"
        }
      ],
      "source": [
        "# lambda function \n",
        "l"
      ]
    },
    {
      "cell_type": "code",
      "execution_count": 66,
      "metadata": {},
      "outputs": [
        {
          "data": {
            "text/plain": [
              "[9, 16, 25, 36, 49, 64, 81, 81]"
            ]
          },
          "execution_count": 66,
          "metadata": {},
          "output_type": "execute_result"
        }
      ],
      "source": [
        "list(map(lambda X : X**2,l ))"
      ]
    },
    {
      "cell_type": "code",
      "execution_count": 74,
      "metadata": {},
      "outputs": [],
      "source": [
        "# generate a list n which is addition of the three  list \n",
        "a=[1,2,3,4,5,6]\n",
        "b=[5,6,7,4,3]\n",
        "c=[6,7,8,6,5,5,4]"
      ]
    },
    {
      "cell_type": "code",
      "execution_count": 75,
      "metadata": {},
      "outputs": [],
      "source": [
        "def summation (x,y,z):\n",
        "    return x+y+z"
      ]
    },
    {
      "cell_type": "code",
      "execution_count": 76,
      "metadata": {},
      "outputs": [
        {
          "data": {
            "text/plain": [
              "[12, 15, 18, 14, 13]"
            ]
          },
          "execution_count": 76,
          "metadata": {},
          "output_type": "execute_result"
        }
      ],
      "source": [
        "list(map(summation,a,b,c))"
      ]
    },
    {
      "cell_type": "code",
      "execution_count": 77,
      "metadata": {},
      "outputs": [
        {
          "data": {
            "text/plain": [
              "[12, 15, 18, 14, 13]"
            ]
          },
          "execution_count": 77,
          "metadata": {},
          "output_type": "execute_result"
        }
      ],
      "source": [
        "list(map(lambda x,y,z : x+y+z,a,b,c))"
      ]
    },
    {
      "cell_type": "code",
      "execution_count": 1,
      "metadata": {},
      "outputs": [
        {
          "data": {
            "text/plain": [
              "[1, 4, 9, 16, 25]"
            ]
          },
          "execution_count": 1,
          "metadata": {},
          "output_type": "execute_result"
        }
      ],
      "source": [
        "# square very number in the list below \n",
        "numbers=[1,2,3,4,5]\n",
        "list(map(lambda x:x**2,numbers))"
      ]
    },
    {
      "cell_type": "code",
      "execution_count": 1,
      "metadata": {},
      "outputs": [
        {
          "data": {
            "text/plain": [
              "['HELLO', 'WORLD', 'PYTHON']"
            ]
          },
          "execution_count": 1,
          "metadata": {},
          "output_type": "execute_result"
        }
      ],
      "source": [
        "# convert to uppercase\n",
        "words = [\"hello\", \"world\", \"python\"]\n",
        "list(map(lambda x:x.upper(),words))\n",
        "\n",
        "# def upper(n):\n",
        "#     return n.\n"
      ]
    },
    {
      "cell_type": "code",
      "execution_count": 2,
      "metadata": {},
      "outputs": [
        {
          "data": {
            "text/plain": [
              "['JohnDoe', 'JaneSmith', 'PeterJones']"
            ]
          },
          "execution_count": 2,
          "metadata": {},
          "output_type": "execute_result"
        }
      ],
      "source": [
        "#combine first and last names \n",
        "first_names = [\"John\", \"Jane\", \"Peter\"]\n",
        "last_names = [\"Doe\", \"Smith\", \"Jones\"]\n",
        "\n",
        "list(map(lambda x,y:x+y,first_names,last_names))"
      ]
    },
    {
      "cell_type": "code",
      "execution_count": 9,
      "metadata": {},
      "outputs": [],
      "source": [
        "\n",
        "def capitalize(n):\n",
        "    return n.upper()\n",
        "\n"
      ]
    },
    {
      "cell_type": "code",
      "execution_count": 10,
      "metadata": {},
      "outputs": [],
      "source": [
        "words = [\"hello\", \"world\", \"python\"]\n",
        "n=[]\n",
        "for i in words:\n",
        "    n.append(capitalize(i))"
      ]
    },
    {
      "cell_type": "code",
      "execution_count": 11,
      "metadata": {},
      "outputs": [
        {
          "data": {
            "text/plain": [
              "['HELLO', 'WORLD', 'PYTHON']"
            ]
          },
          "execution_count": 11,
          "metadata": {},
          "output_type": "execute_result"
        }
      ],
      "source": [
        "n"
      ]
    },
    {
      "cell_type": "code",
      "execution_count": 24,
      "metadata": {},
      "outputs": [
        {
          "data": {
            "text/plain": [
              "[2, 5, 10, 17, 26]"
            ]
          },
          "execution_count": 24,
          "metadata": {},
          "output_type": "execute_result"
        }
      ],
      "source": [
        "# Create a Custom Mapping Function\n",
        "numbers = [1, 2, 3, 4, 5]\n",
        "def doubeadd(numbers):\n",
        "    return (numbers**2 )+ 1 \n",
        "\n",
        "list(map(doubeadd,numbers))"
      ]
    },
    {
      "cell_type": "code",
      "execution_count": 23,
      "metadata": {},
      "outputs": [
        {
          "name": "stdout",
          "output_type": "stream",
          "text": [
            "2\n",
            "5\n",
            "10\n",
            "17\n",
            "26\n"
          ]
        }
      ],
      "source": [
        "numbers = [1, 2, 3, 4, 5]\n",
        "def doubeadd(numbers):\n",
        "    return (numbers**2 )+ 1 \n",
        "\n",
        "for i in numbers:\n",
        "    print(doubeadd(i))"
      ]
    },
    {
      "cell_type": "code",
      "execution_count": 2,
      "metadata": {},
      "outputs": [],
      "source": [
        "def summation (a,b):\n",
        "    return a +b\n"
      ]
    },
    {
      "cell_type": "code",
      "execution_count": 3,
      "metadata": {},
      "outputs": [
        {
          "data": {
            "text/plain": [
              "39"
            ]
          },
          "execution_count": 3,
          "metadata": {},
          "output_type": "execute_result"
        }
      ],
      "source": [
        "# reduce\n",
        "from functools import reduce\n",
        "l=[4,5,6,7,8,9]\n",
        "reduce(summation,l)"
      ]
    },
    {
      "cell_type": "code",
      "execution_count": 6,
      "metadata": {},
      "outputs": [
        {
          "data": {
            "text/plain": [
              "39"
            ]
          },
          "execution_count": 6,
          "metadata": {},
          "output_type": "execute_result"
        }
      ],
      "source": [
        "l=[4,5,6,7,8,9]\n",
        "reduce(lambda x,y:x+y,l) "
      ]
    },
    {
      "cell_type": "code",
      "execution_count": 7,
      "metadata": {},
      "outputs": [
        {
          "data": {
            "text/plain": [
              "[4, 6, 8, 8, 8]"
            ]
          },
          "execution_count": 7,
          "metadata": {},
          "output_type": "execute_result"
        }
      ],
      "source": [
        "l = [4,5,6,7,8,7,8,8]\n",
        "list(filter(lambda x: x%2 == 0,l))"
      ]
    },
    {
      "cell_type": "code",
      "execution_count": 8,
      "metadata": {},
      "outputs": [],
      "source": [
        "def even_check(n):\n",
        "    if n%2 == 0:\n",
        "        return True "
      ]
    },
    {
      "cell_type": "code",
      "execution_count": 9,
      "metadata": {},
      "outputs": [
        {
          "data": {
            "text/plain": [
              "[4, 6, 8, 8, 8]"
            ]
          },
          "execution_count": 9,
          "metadata": {},
          "output_type": "execute_result"
        }
      ],
      "source": [
        "list(filter(even_check,l))"
      ]
    },
    {
      "cell_type": "code",
      "execution_count": 11,
      "metadata": {},
      "outputs": [],
      "source": [
        "items = [\n",
        "    ('product1', 10),\n",
        "    ('product2', 9),\n",
        "    ('product',12),\n",
        "]\n",
        "\n",
        "prices=list(map(lambda item:item[1]>=10,items))\n",
        "\n",
        "prices=[item[1] for item in items]\n",
        "\n",
        "filtered= list(filter(lambda item:item[1]>= 10,items))\n",
        "filtered = [item for item in items if item[1]>=10]\n",
        "\n"
      ]
    },
    {
      "cell_type": "code",
      "execution_count": 13,
      "metadata": {},
      "outputs": [
        {
          "name": "stdout",
          "output_type": "stream",
          "text": [
            "[('a', 1, 10), ('b', 2, 20), ('c', 3, 30)]\n"
          ]
        }
      ],
      "source": [
        "list1 = [1,2,3]\n",
        "list2 = [10,20,30]\n",
        "\n",
        "print(list(zip('abc',list1,list2)))"
      ]
    },
    {
      "cell_type": "code",
      "execution_count": 5,
      "metadata": {},
      "outputs": [
        {
          "name": "stdout",
          "output_type": "stream",
          "text": [
            "[1, 2, 3]\n",
            "3\n",
            "[1, 2]\n",
            "redirect [1, 2]\n"
          ]
        }
      ],
      "source": [
        "#stack\n",
        "browsing_session=[]\n",
        "browsing_session.append(1)\n",
        "browsing_session.append(2)\n",
        "browsing_session.append(3)\n",
        "print(browsing_session)\n",
        "last = browsing_session.pop()\n",
        "print(last)\n",
        "print(browsing_session)\n",
        "print('redirect',browsing_session)"
      ]
    },
    {
      "cell_type": "code",
      "execution_count": 9,
      "metadata": {},
      "outputs": [
        {
          "name": "stdout",
          "output_type": "stream",
          "text": [
            "deque([2, 3])\n"
          ]
        }
      ],
      "source": [
        "# Queue\n",
        "from collections import deque\n",
        "queue= deque([])\n",
        "queue.append(1)\n",
        "queue.append(2)\n",
        "queue.append(3)\n",
        "queue.popleft()\n",
        "print(queue)\n",
        "if not queue:\n",
        "    print('empty')"
      ]
    },
    {
      "cell_type": "code",
      "execution_count": 12,
      "metadata": {},
      "outputs": [
        {
          "name": "stdout",
          "output_type": "stream",
          "text": [
            "<class 'tuple'>\n"
          ]
        }
      ],
      "source": [
        "# Tuple \n",
        "point =1,\n",
        "print(type(point))"
      ]
    },
    {
      "cell_type": "code",
      "execution_count": 13,
      "metadata": {},
      "outputs": [
        {
          "name": "stdout",
          "output_type": "stream",
          "text": [
            "(1, 2, 1, 2, 1, 2)\n"
          ]
        }
      ],
      "source": [
        "point = (1,2)*3\n",
        "print(point)"
      ]
    },
    {
      "cell_type": "code",
      "execution_count": 19,
      "metadata": {},
      "outputs": [
        {
          "name": "stdout",
          "output_type": "stream",
          "text": [
            "(1, 2)\n",
            "exists\n"
          ]
        }
      ],
      "source": [
        "point = (1,2,3)\n",
        "print(point[0:2])\n",
        "x,y,z = point\n",
        "if 1  in point:\n",
        "    print('exists')\n",
        "\n"
      ]
    },
    {
      "cell_type": "code",
      "execution_count": 23,
      "metadata": {},
      "outputs": [
        {
          "name": "stdout",
          "output_type": "stream",
          "text": [
            "x 10\n",
            "y 11\n"
          ]
        }
      ],
      "source": [
        "# swapping variables\n",
        "x= 10\n",
        "y= 11\n",
        "x, y=y, x\n",
        "z=x\n",
        "x=y\n",
        "y=z\n",
        "print('x',x)\n",
        "print('y',y)"
      ]
    },
    {
      "cell_type": "code",
      "execution_count": 27,
      "metadata": {},
      "outputs": [],
      "source": [
        "x= 10\n",
        "y= 11\n",
        "x, y = y, x\n",
        "x, y =(11,10)"
      ]
    },
    {
      "cell_type": "code",
      "execution_count": 6,
      "metadata": {},
      "outputs": [
        {
          "data": {
            "text/plain": [
              "1"
            ]
          },
          "execution_count": 6,
          "metadata": {},
          "output_type": "execute_result"
        }
      ],
      "source": [
        "# array\n",
        "from array import array \n",
        "\n",
        "numbers=array('i',[1,2,3])\n",
        "numbers[0]\n"
      ]
    },
    {
      "cell_type": "code",
      "execution_count": 13,
      "metadata": {},
      "outputs": [
        {
          "name": "stdout",
          "output_type": "stream",
          "text": [
            "{1, 2, 3, 4, 5, 6}\n",
            "{1}\n",
            "{2, 3, 4}\n",
            "{2, 3, 4, 5, 6}\n"
          ]
        }
      ],
      "source": [
        "# sets\n",
        "numbers = [1,1,2,3,4]\n",
        "first= set(numbers)\n",
        "second={1,5,6}\n",
        "print(first| second)\n",
        "print(first& second)\n",
        "print(first- second)\n",
        "print(first^ second)\n",
        "      \n"
      ]
    },
    {
      "cell_type": "code",
      "execution_count": 26,
      "metadata": {},
      "outputs": [
        {
          "name": "stdout",
          "output_type": "stream",
          "text": [
            "{'x': 10, 'y': 2, 'z': 20}\n",
            "0\n",
            "{'y': 2, 'z': 20}\n",
            "y\n",
            "z\n",
            "y 2\n",
            "z 20\n"
          ]
        }
      ],
      "source": [
        "# dictionary\n",
        "\n",
        "point={'x':1,'y':2}\n",
        "# or\n",
        "point = dict(x=1,y=2)\n",
        "point['x']=10\n",
        "point['z']=20\n",
        "print(point)\n",
        "if 'a'in point:\n",
        "    print(point('a'))\n",
        "print(point.get('a',0))\n",
        "del point['x']\n",
        "print(point)\n",
        "for x in point:\n",
        "    print(x)\n",
        "for key,value in point.items():\n",
        "    print(key,value)\n",
        "\n"
      ]
    },
    {
      "cell_type": "code",
      "execution_count": 34,
      "metadata": {},
      "outputs": [
        {
          "name": "stdout",
          "output_type": "stream",
          "text": [
            "<generator object <genexpr> at 0x00000253F58D1890>\n"
          ]
        }
      ],
      "source": [
        "# dictionary comprehensions\n",
        "# values={}\n",
        "# for x in range(5):\n",
        "#     values[x]=x*2\n",
        "\n",
        "values=( x * 2 for x in range(5) )\n",
        "print(values)\n",
        "\n"
      ]
    },
    {
      "cell_type": "code",
      "execution_count": 41,
      "metadata": {},
      "outputs": [
        {
          "name": "stdout",
          "output_type": "stream",
          "text": [
            "gen: 112\n",
            "list: 800984\n"
          ]
        }
      ],
      "source": [
        "# generator\n",
        "from sys import getsizeof\n",
        "\n",
        "values=( x * 2 for x in range(100000))\n",
        "print('gen:',getsizeof(values))\n",
        "values=[x * 2 for x in range(100000)]\n",
        "print('list:',getsizeof(values))"
      ]
    },
    {
      "cell_type": "code",
      "execution_count": 43,
      "metadata": {},
      "outputs": [
        {
          "name": "stdout",
          "output_type": "stream",
          "text": [
            "1 2 3\n"
          ]
        }
      ],
      "source": [
        "# unpacking list \n",
        "numbers = [1,2,3]\n",
        "print(*numbers)"
      ]
    },
    {
      "cell_type": "code",
      "execution_count": null,
      "metadata": {},
      "outputs": [],
      "source": []
    },
    {
      "cell_type": "code",
      "execution_count": null,
      "metadata": {},
      "outputs": [],
      "source": []
    },
    {
      "cell_type": "code",
      "execution_count": null,
      "metadata": {},
      "outputs": [],
      "source": []
    },
    {
      "cell_type": "code",
      "execution_count": null,
      "metadata": {},
      "outputs": [],
      "source": []
    },
    {
      "cell_type": "code",
      "execution_count": null,
      "metadata": {},
      "outputs": [],
      "source": []
    },
    {
      "cell_type": "code",
      "execution_count": null,
      "metadata": {},
      "outputs": [],
      "source": []
    }
  ],
  "metadata": {
    "colab": {
      "provenance": []
    },
    "kernelspec": {
      "display_name": "Python 3",
      "name": "python3"
    },
    "language_info": {
      "codemirror_mode": {
        "name": "ipython",
        "version": 3
      },
      "file_extension": ".py",
      "mimetype": "text/x-python",
      "name": "python",
      "nbconvert_exporter": "python",
      "pygments_lexer": "ipython3",
      "version": "3.9.13"
    }
  },
  "nbformat": 4,
  "nbformat_minor": 0
}
